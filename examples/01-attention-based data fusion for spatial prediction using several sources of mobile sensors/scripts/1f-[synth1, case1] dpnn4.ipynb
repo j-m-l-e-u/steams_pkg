{
 "cells": [
  {
   "cell_type": "code",
   "execution_count": 1,
   "id": "e04d6644",
   "metadata": {},
   "outputs": [],
   "source": [
    "import pandas as pd\n",
    "import os\n",
    "import json\n",
    "import torch\n",
    "import numpy as np\n",
    "from steams.data import KVyQVx\n",
    "from steams.models.attention import dpnn4\n",
    "from steams.trainer import AttentionTrainer,train, evaluation, prediction_prime, ensemble_prime\n",
    "from steams.criterion import R2,RMSE,variance\n",
    "import matplotlib.pyplot as plt\n",
    "from matplotlib.gridspec import GridSpec\n",
    "import geopandas as gpd"
   ]
  },
  {
   "cell_type": "code",
   "execution_count": 2,
   "id": "28c0bb13",
   "metadata": {},
   "outputs": [],
   "source": [
    "parent_dir = os.path.abspath(os.path.join(os.path.abspath(os.getcwd()), os.pardir))"
   ]
  },
  {
   "cell_type": "code",
   "execution_count": 3,
   "id": "bd636481",
   "metadata": {},
   "outputs": [],
   "source": [
    "resdir = os.path.join(parent_dir,'results')\n",
    "figdir = os.path.join(parent_dir,'fig')\n",
    "if not os.path.exists(figdir):\n",
    "    os.makedirs(figdir)\n",
    "if not os.path.exists(resdir):\n",
    "    os.makedirs(resdir)"
   ]
  },
  {
   "cell_type": "code",
   "execution_count": 4,
   "id": "3d8b621f",
   "metadata": {},
   "outputs": [],
   "source": [
    "if torch.cuda.is_available():\n",
    "    cuda_name = \"1\"\n",
    "    num_workers=0\n",
    "    pin_memory = True\n",
    "    device = torch.device('cuda'+\":\"+cuda_name)\n",
    "    #device = torch.device('cuda')\n",
    "else:\n",
    "    num_workers = 0\n",
    "    pin_memory = False\n",
    "    device = torch.device('cpu')"
   ]
  },
  {
   "cell_type": "code",
   "execution_count": 5,
   "id": "87cad126",
   "metadata": {},
   "outputs": [
    {
     "data": {
      "text/plain": [
       "device(type='cpu')"
      ]
     },
     "execution_count": 5,
     "metadata": {},
     "output_type": "execute_result"
    }
   ],
   "source": [
    "device"
   ]
  },
  {
   "cell_type": "markdown",
   "id": "7dcb8c62",
   "metadata": {},
   "source": [
    "## train/valid dataset"
   ]
  },
  {
   "cell_type": "code",
   "execution_count": 6,
   "id": "69f1364e",
   "metadata": {},
   "outputs": [],
   "source": [
    "params = {\n",
    "        \"class\" : \"KVyQVx\",\n",
    "        \"Y\":{\n",
    "          \"path\": \"\",\n",
    "          \"KEY\":[\"x\",\"y\"],\n",
    "          \"VALUE\": [\"sensor_hq\"],\n",
    "          \"nb_location\" : 1000,\n",
    "          \"history_length\": 0,\n",
    "          \"nb_sampling\": 100\n",
    "        },\n",
    "        \"X\":{\n",
    "          \"path\": \"\",\n",
    "          \"QUERY\":[\"x\",\"y\"],\n",
    "          \"VALUE\": [\"sensor_hq\"],\n",
    "          \"nb_location\" : 1000,\n",
    "          \"gap_length\": 0,\n",
    "          \"horizon_length\":0,\n",
    "          \"nb_sampling\": 100\n",
    "        }\n",
    "    }"
   ]
  },
  {
   "cell_type": "code",
   "execution_count": 7,
   "id": "b405961c",
   "metadata": {},
   "outputs": [],
   "source": [
    "params['Y']['path'] = os.path.join(parent_dir,\"session\",\"synth_1000_Y_train\")\n",
    "params['X']['path'] = os.path.join(parent_dir,\"session\",\"synth_1000_X_train\")\n",
    "\n",
    "train_dataset = KVyQVx(params)"
   ]
  },
  {
   "cell_type": "code",
   "execution_count": 8,
   "id": "fb2689d6",
   "metadata": {},
   "outputs": [],
   "source": [
    "params['Y']['path'] = os.path.join(parent_dir,\"session\",\"synth_1000_Y_valid\")\n",
    "params['X']['path'] = os.path.join(parent_dir,\"session\",\"synth_1000_X_valid\")\n",
    "\n",
    "valid_dataset = KVyQVx(params)"
   ]
  },
  {
   "cell_type": "code",
   "execution_count": 9,
   "id": "2357169a",
   "metadata": {},
   "outputs": [],
   "source": [
    "#train_dataset[0]"
   ]
  },
  {
   "cell_type": "markdown",
   "id": "88dee0f8",
   "metadata": {},
   "source": [
    "## model, optimizer, criterion, scheduler"
   ]
  },
  {
   "cell_type": "code",
   "execution_count": 10,
   "id": "d9d8a689",
   "metadata": {},
   "outputs": [],
   "source": [
    "#model\n",
    "model = dpnn4(input_k=2,input_q=2, input_v=1, hidden_size=32)"
   ]
  },
  {
   "cell_type": "code",
   "execution_count": 11,
   "id": "88cf241f",
   "metadata": {},
   "outputs": [],
   "source": [
    "# optimzer\n",
    "optimizer = torch.optim.Adam(model.parameters(), lr=1e-3) #8e-3\n",
    "#optimizer = torch.optim.SGD(model.parameters(), lr=0.1)\n",
    "\n",
    "# criterion\n",
    "criterion = torch.nn.MSELoss()\n",
    "\n",
    "# AttentionTrainer object\n",
    "obj = AttentionTrainer(model,device)\n",
    "obj.init_optimizer(optimizer)\n",
    "obj.init_criterion(criterion)"
   ]
  },
  {
   "cell_type": "markdown",
   "id": "97b1e9a4",
   "metadata": {},
   "source": [
    "## Training"
   ]
  },
  {
   "cell_type": "code",
   "execution_count": 12,
   "id": "800d0835",
   "metadata": {},
   "outputs": [
    {
     "name": "stdout",
     "output_type": "stream",
     "text": [
      "  epoch     train     valid\n",
      "0     0  1.006192  1.000691\n",
      "  epoch   train     valid\n",
      "0     1  0.9977  0.995824\n",
      "  epoch     train     valid\n",
      "0     2  0.997295  1.003598\n",
      "  epoch     train     valid\n",
      "0     3  1.005179  0.999713\n",
      "  epoch     train     valid\n",
      "0     4  0.968621  0.888137\n",
      "  epoch     train     valid\n",
      "0     5  0.854169  0.772821\n",
      "  epoch     train     valid\n",
      "0     6  0.787349  0.702702\n",
      "  epoch     train     valid\n",
      "0     7  0.702447  0.623869\n",
      "  epoch     train     valid\n",
      "0     8  0.682171  0.615324\n",
      "  epoch     train    valid\n",
      "0     9  0.676308  0.62632\n",
      "  epoch     train     valid\n",
      "0    10  0.662782  0.599121\n",
      "  epoch     train     valid\n",
      "0    11  0.647997  0.571161\n",
      "  epoch     train     valid\n",
      "0    12  0.640239  0.568559\n",
      "  epoch     train     valid\n",
      "0    13  0.631327  0.570517\n",
      "  epoch     train     valid\n",
      "0    14  0.631812  0.566626\n",
      "  epoch     train     valid\n",
      "0    15  0.627902  0.571511\n",
      "  epoch     train    valid\n",
      "0    16  0.626955  0.55847\n",
      "  epoch     train    valid\n",
      "0    17  0.622435  0.56615\n",
      "  epoch     train     valid\n",
      "0    18  0.627615  0.564696\n",
      "  epoch     train     valid\n",
      "0    19  0.624794  0.559685\n",
      "  epoch     train    valid\n",
      "0    20  0.621692  0.55299\n",
      "  epoch     train     valid\n",
      "0    21  0.622408  0.563236\n",
      "  epoch     train     valid\n",
      "0    22  0.627215  0.554456\n",
      "  epoch     train     valid\n",
      "0    23  0.622361  0.561774\n",
      "  epoch     train    valid\n",
      "0    24  0.618133  0.55719\n",
      "  epoch     train     valid\n",
      "0    25  0.620019  0.552035\n",
      "  epoch     train     valid\n",
      "0    26  0.620576  0.553976\n",
      "  epoch     train     valid\n",
      "0    27  0.617881  0.552493\n",
      "  epoch     train     valid\n",
      "0    28  0.616613  0.549645\n",
      "  epoch     train     valid\n",
      "0    29  0.615251  0.547883\n",
      "  epoch     train     valid\n",
      "0    30  0.619675  0.552552\n",
      "  epoch     train    valid\n",
      "0    31  0.621264  0.54884\n",
      "  epoch     train     valid\n",
      "0    32  0.618322  0.542686\n",
      "  epoch     train     valid\n",
      "0    33  0.620489  0.554592\n",
      "  epoch    train     valid\n",
      "0    34  0.61558  0.553111\n",
      "  epoch     train     valid\n",
      "0    35  0.616785  0.546523\n",
      "  epoch     train     valid\n",
      "0    36  0.614182  0.551551\n",
      "  epoch     train     valid\n",
      "0    37  0.613199  0.546861\n",
      "  epoch     train    valid\n",
      "0    38  0.607786  0.54845\n",
      "  epoch     train     valid\n",
      "0    39  0.612837  0.549775\n",
      "  epoch     train     valid\n",
      "0    40  0.609547  0.547327\n",
      "  epoch     train     valid\n",
      "0    41  0.612028  0.545913\n",
      "  epoch     train    valid\n",
      "0    42  0.612817  0.55029\n",
      "  epoch     train     valid\n",
      "0    43  0.613058  0.558435\n",
      "  epoch     train     valid\n",
      "0    44  0.618786  0.551907\n",
      "  epoch     train     valid\n",
      "0    45  0.612526  0.559003\n",
      "  epoch     train     valid\n",
      "0    46  0.621355  0.546625\n",
      "  epoch     train     valid\n",
      "0    47  0.608811  0.555213\n",
      "  epoch     train     valid\n",
      "0    48  0.614688  0.544866\n",
      "  epoch     train     valid\n",
      "0    49  0.614681  0.543016\n",
      "  epoch     train     valid\n",
      "0    50  0.607721  0.541414\n",
      "  epoch     train     valid\n",
      "0    51  0.617025  0.547726\n",
      "  epoch     train     valid\n",
      "0    52  0.610406  0.546275\n",
      "  epoch     train     valid\n",
      "0    53  0.612485  0.547843\n",
      "  epoch     train     valid\n",
      "0    54  0.608707  0.548796\n",
      "  epoch     train     valid\n",
      "0    55  0.610867  0.548076\n",
      "  epoch     train    valid\n",
      "0    56  0.607404  0.54364\n",
      "  epoch     train     valid\n",
      "0    57  0.610684  0.550182\n",
      "  epoch     train     valid\n",
      "0    58  0.615435  0.542742\n",
      "  epoch     train     valid\n",
      "0    59  0.614656  0.548998\n",
      "  epoch    train     valid\n",
      "0    60  0.61288  0.541014\n",
      "  epoch   train     valid\n",
      "0    61  0.6078  0.546155\n",
      "  epoch     train     valid\n",
      "0    62  0.606094  0.540323\n",
      "  epoch     train     valid\n",
      "0    63  0.610042  0.551544\n",
      "  epoch     train     valid\n",
      "0    64  0.613752  0.548735\n",
      "  epoch     train     valid\n",
      "0    65  0.605364  0.541875\n",
      "  epoch     train     valid\n",
      "0    66  0.613365  0.551997\n",
      "  epoch     train     valid\n",
      "0    67  0.607513  0.547381\n",
      "  epoch     train     valid\n",
      "0    68  0.609938  0.543116\n",
      "  epoch     train     valid\n",
      "0    69  0.605712  0.537757\n",
      "  epoch     train     valid\n",
      "0    70  0.616203  0.546708\n",
      "  epoch     train     valid\n",
      "0    71  0.609388  0.548711\n",
      "  epoch     train     valid\n",
      "0    72  0.611604  0.545509\n",
      "  epoch     train     valid\n",
      "0    73  0.613297  0.552762\n",
      "  epoch     train     valid\n",
      "0    74  0.608798  0.538632\n",
      "  epoch    train     valid\n",
      "0    75  0.61122  0.544549\n",
      "  epoch     train     valid\n",
      "0    76  0.612068  0.554702\n",
      "  epoch     train     valid\n",
      "0    77  0.607637  0.553889\n",
      "  epoch    train     valid\n",
      "0    78  0.60954  0.542397\n",
      "  epoch     train     valid\n",
      "0    79  0.609204  0.545314\n",
      "  epoch     train     valid\n",
      "0    80  0.612671  0.547704\n",
      "  epoch     train     valid\n",
      "0    81  0.610413  0.535901\n",
      "  epoch     train     valid\n",
      "0    82  0.613905  0.536851\n",
      "  epoch     train     valid\n",
      "0    83  0.608106  0.545284\n",
      "  epoch     train     valid\n",
      "0    84  0.605553  0.551098\n",
      "  epoch    train     valid\n",
      "0    85  0.61119  0.544862\n",
      "  epoch     train     valid\n",
      "0    86  0.611014  0.545147\n",
      "  epoch     train     valid\n",
      "0    87  0.607247  0.541983\n",
      "  epoch     train     valid\n",
      "0    88  0.608138  0.536116\n",
      "  epoch     train     valid\n",
      "0    89  0.607735  0.544195\n",
      "  epoch    train     valid\n",
      "0    90  0.60834  0.541081\n",
      "  epoch     train     valid\n",
      "0    91  0.610078  0.545042\n",
      "  epoch     train     valid\n",
      "0    92  0.604989  0.546882\n",
      "  epoch     train     valid\n",
      "0    93  0.605325  0.542871\n",
      "  epoch     train    valid\n",
      "0    94  0.609225  0.54632\n",
      "  epoch    train     valid\n",
      "0    95  0.61021  0.540324\n",
      "  epoch     train     valid\n",
      "0    96  0.608098  0.539339\n",
      "  epoch     train     valid\n",
      "0    97  0.607792  0.541192\n",
      "  epoch     train    valid\n",
      "0    98  0.610027  0.54412\n",
      "  epoch     train     valid\n",
      "0    99  0.608067  0.541492\n",
      "  epoch     train     valid\n",
      "0   100  0.606402  0.538439\n",
      "  epoch     train     valid\n",
      "0   101  0.608958  0.537778\n",
      "--> early stopping\n"
     ]
    }
   ],
   "source": [
    "# training\n",
    "train(obj,train_dataset,valid_dataset,niter=200,n_iter_stop=20,batch_size=32,shuffle=True,num_workers=num_workers,pin_memory=pin_memory,resdir=None)"
   ]
  },
  {
   "cell_type": "code",
   "execution_count": 13,
   "id": "f2553388",
   "metadata": {},
   "outputs": [],
   "source": [
    "obj.save_model(resdir,\"1d-dpnn4\")"
   ]
  },
  {
   "cell_type": "markdown",
   "id": "d3446167",
   "metadata": {},
   "source": [
    "## Evaluation"
   ]
  },
  {
   "cell_type": "code",
   "execution_count": 16,
   "id": "7c99b123",
   "metadata": {},
   "outputs": [],
   "source": [
    "params['Y']['path'] = os.path.join(parent_dir,\"session\",\"synth_1000_Y_eval\")\n",
    "params['X']['path'] = os.path.join(parent_dir,\"session\",\"synth_1000_X_eval\")\n",
    "\n",
    "eval_dataset = KVyQVx(params)"
   ]
  },
  {
   "cell_type": "code",
   "execution_count": 17,
   "id": "9e8eb274",
   "metadata": {},
   "outputs": [],
   "source": [
    "criterion = R2()\n",
    "#criterion = torch.nn.MSELoss()\n",
    "obj.init_criterion(criterion)"
   ]
  },
  {
   "cell_type": "code",
   "execution_count": 18,
   "id": "315f3751",
   "metadata": {},
   "outputs": [
    {
     "name": "stdout",
     "output_type": "stream",
     "text": [
      "-1.0767925083637238\n"
     ]
    }
   ],
   "source": [
    "evaluation(obj,eval_dataset,batch_size=32,shuffle=True,num_workers=num_workers,pin_memory=pin_memory,resdir=None)"
   ]
  },
  {
   "cell_type": "code",
   "execution_count": 20,
   "id": "261870e1",
   "metadata": {},
   "outputs": [],
   "source": [
    "criterion = RMSE()\n",
    "obj.init_criterion(criterion)"
   ]
  },
  {
   "cell_type": "code",
   "execution_count": 21,
   "id": "85210a75",
   "metadata": {},
   "outputs": [
    {
     "name": "stdout",
     "output_type": "stream",
     "text": [
      "0.36914797127246857\n"
     ]
    }
   ],
   "source": [
    "evaluation(obj,eval_dataset,batch_size=32,shuffle=True,num_workers=num_workers,pin_memory=pin_memory,resdir=None)"
   ]
  },
  {
   "cell_type": "code",
   "execution_count": 22,
   "id": "a50ddb56",
   "metadata": {},
   "outputs": [],
   "source": [
    "criterion = variance()\n",
    "obj.init_criterion(criterion)"
   ]
  },
  {
   "cell_type": "code",
   "execution_count": 23,
   "id": "60ed14d8",
   "metadata": {},
   "outputs": [
    {
     "name": "stdout",
     "output_type": "stream",
     "text": [
      "0.06914551556110382\n"
     ]
    }
   ],
   "source": [
    "evaluation(obj,eval_dataset,batch_size=32,shuffle=True,num_workers=num_workers,pin_memory=pin_memory,resdir=None)"
   ]
  },
  {
   "cell_type": "markdown",
   "id": "1a23128c",
   "metadata": {},
   "source": [
    "## QQplot"
   ]
  },
  {
   "cell_type": "code",
   "execution_count": 24,
   "id": "1f33d490",
   "metadata": {},
   "outputs": [],
   "source": [
    "params['Y']['path'] = os.path.join(parent_dir,\"session\",\"synth_1000_Y_eval\")\n",
    "params['X']['path'] = os.path.join(parent_dir,\"session\",\"synth_1000_X_eval\")\n",
    "\n",
    "eval_dataset = KVyQVx(params)"
   ]
  },
  {
   "cell_type": "code",
   "execution_count": 25,
   "id": "37b63c3e",
   "metadata": {},
   "outputs": [
    {
     "name": "stderr",
     "output_type": "stream",
     "text": [
      "/home/jean-marie/dev/01-packages/steams_pkg/steams/trainer.py:163: FutureWarning: The behavior of DataFrame concatenation with empty or all-NA entries is deprecated. In a future version, this will no longer exclude empty or all-NA columns when determining the result dtypes. To retain the old behavior, exclude the relevant entries before the concat operation.\n",
      "  results = pd.concat([results,tmp_df],ignore_index=True,axis=0)\n"
     ]
    }
   ],
   "source": [
    "results = prediction_prime(obj,eval_dataset)"
   ]
  },
  {
   "cell_type": "code",
   "execution_count": 26,
   "id": "a79ab3e5",
   "metadata": {},
   "outputs": [
    {
     "data": {
      "image/png": "[encoded data removed]",
      "text/plain": [
       "<Figure size 1400x1200 with 1 Axes>"
      ]
     },
     "metadata": {},
     "output_type": "display_data"
    }
   ],
   "source": [
    "pred_name = ['pred_' + v for v in eval_dataset.VALUE_X]\n",
    "\n",
    "fig, ax= plt.subplots(figsize=(14, 12))\n",
    "ax.scatter(results.loc[:,eval_dataset.VALUE_X],results.loc[:,pred_name], linewidth=2.0,c=\"black\")\n",
    "ax.axline((0, 0), slope=1., color='blue')\n",
    "ax.set_xlim(0, 2.5)\n",
    "ax.set_ylim(results.loc[:,pred_name].min().item()-0.5, results.loc[:,pred_name].max().item()+0.5)\n",
    "ax.set(xlabel='observations', ylabel='predictions')\n",
    "\n",
    "fig_filename = os.path.join(parent_dir,'fig','1d-qqplot.png')\n",
    "plt.savefig(fig_filename, dpi = 300)"
   ]
  },
  {
   "cell_type": "code",
   "execution_count": null,
   "id": "1d9e8192",
   "metadata": {},
   "outputs": [],
   "source": []
  }
 ],
 "metadata": {
  "kernelspec": {
   "display_name": "Python 3",
   "language": "python",
   "name": "python3"
  },
  "language_info": {
   "codemirror_mode": {
    "name": "ipython",
    "version": 3
   },
   "file_extension": ".py",
   "mimetype": "text/x-python",
   "name": "python",
   "nbconvert_exporter": "python",
   "pygments_lexer": "ipython3",
   "version": "3.10.12"
  }
 },
 "nbformat": 4,
 "nbformat_minor": 5
}
