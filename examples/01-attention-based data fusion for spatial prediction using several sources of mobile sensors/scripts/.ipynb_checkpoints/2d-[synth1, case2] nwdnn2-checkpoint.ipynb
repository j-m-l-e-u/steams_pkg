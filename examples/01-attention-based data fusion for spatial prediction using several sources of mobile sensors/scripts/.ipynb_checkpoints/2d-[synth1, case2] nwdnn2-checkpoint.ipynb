{
 "cells": [
  {
   "cell_type": "code",
   "execution_count": 1,
   "id": "e04d6644",
   "metadata": {},
   "outputs": [],
   "source": [
    "import pandas as pd\n",
    "import os\n",
    "import json\n",
    "import torch\n",
    "import numpy as np\n",
    "from torch.utils.data import DataLoader\n",
    "from steams.data.KVyQVx import KVyQVx\n",
    "from steams.models.mads import madsnn2\n",
    "from steams.tepe.steams import attention_steams\n",
    "from steams.tepe.tepe import train, evaluation, prediction_prime, ensemble_prime\n",
    "from steams.utils.criterion import R2,RMSE,variance\n",
    "import matplotlib.pyplot as plt\n",
    "from matplotlib.gridspec import GridSpec"
   ]
  },
  {
   "cell_type": "code",
   "execution_count": 2,
   "id": "28c0bb13",
   "metadata": {},
   "outputs": [],
   "source": [
    "parent_dir = os.path.abspath(os.path.join(os.path.abspath(os.getcwd()), os.pardir))"
   ]
  },
  {
   "cell_type": "code",
   "execution_count": 3,
   "id": "0354b92d",
   "metadata": {},
   "outputs": [],
   "source": [
    "resdir = os.path.join(parent_dir,'results')\n",
    "figdir = os.path.join(parent_dir,'fig')\n",
    "if not os.path.exists(figdir):\n",
    "    os.makedirs(figdir)\n",
    "if not os.path.exists(resdir):\n",
    "    os.makedirs(resdir)"
   ]
  },
  {
   "cell_type": "code",
   "execution_count": 4,
   "id": "3d8b621f",
   "metadata": {},
   "outputs": [],
   "source": [
    "if torch.cuda.is_available():\n",
    "    cuda_name = \"1\"\n",
    "    num_workers=0\n",
    "    pin_memory = True\n",
    "    device = torch.device('cuda'+\":\"+cuda_name)\n",
    "    #device = torch.device('cuda')\n",
    "else:\n",
    "    num_workers = 0\n",
    "    pin_memory = False\n",
    "    device = torch.device('cpu')"
   ]
  },
  {
   "cell_type": "code",
   "execution_count": 5,
   "id": "87cad126",
   "metadata": {},
   "outputs": [
    {
     "data": {
      "text/plain": [
       "device(type='cpu')"
      ]
     },
     "execution_count": 5,
     "metadata": {},
     "output_type": "execute_result"
    }
   ],
   "source": [
    "device"
   ]
  },
  {
   "cell_type": "markdown",
   "id": "7dcb8c62",
   "metadata": {},
   "source": [
    "## train/valid dataset"
   ]
  },
  {
   "cell_type": "code",
   "execution_count": 6,
   "id": "69f1364e",
   "metadata": {},
   "outputs": [],
   "source": [
    "params = {\n",
    "        \"class\" : \"KVyQVx\",\n",
    "        \"Y\":{\n",
    "          \"path\": \"\",\n",
    "          \"KEY\":[\"x\",\"y\"],\n",
    "          \"VALUE\": [\"sensor_lq\"],\n",
    "          \"nb_location\" : 1000,\n",
    "          \"history_length\": 0,\n",
    "          \"nb_sampling\": 100\n",
    "        },\n",
    "        \"X\":{\n",
    "          \"path\": \"\",\n",
    "          \"QUERY\":[\"x\",\"y\"],\n",
    "          \"VALUE\": [\"sensor_hq\"],\n",
    "          \"nb_location\" : 1000,\n",
    "          \"gap_length\": 0,\n",
    "          \"horizon_length\":0,\n",
    "          \"nb_sampling\": 100\n",
    "        }\n",
    "    }"
   ]
  },
  {
   "cell_type": "code",
   "execution_count": 7,
   "id": "b405961c",
   "metadata": {},
   "outputs": [],
   "source": [
    "params['Y']['path'] = os.path.join(parent_dir,\"session\",\"synth_1000_Y_train\")\n",
    "params['X']['path'] = os.path.join(parent_dir,\"session\",\"synth_1000_X_train\")\n",
    "\n",
    "train_dataset = KVyQVx(params)"
   ]
  },
  {
   "cell_type": "code",
   "execution_count": 8,
   "id": "fb2689d6",
   "metadata": {},
   "outputs": [],
   "source": [
    "params['Y']['path'] = os.path.join(parent_dir,\"session\",\"synth_1000_Y_valid\")\n",
    "params['X']['path'] = os.path.join(parent_dir,\"session\",\"synth_1000_X_valid\")\n",
    "\n",
    "valid_dataset = KVyQVx(params)"
   ]
  },
  {
   "cell_type": "code",
   "execution_count": 9,
   "id": "2357169a",
   "metadata": {},
   "outputs": [],
   "source": [
    "#train_dataset[0]"
   ]
  },
  {
   "cell_type": "markdown",
   "id": "88dee0f8",
   "metadata": {},
   "source": [
    "## model, optimizer, criterion, scheduler"
   ]
  },
  {
   "cell_type": "code",
   "execution_count": 10,
   "id": "d9d8a689",
   "metadata": {},
   "outputs": [],
   "source": [
    "#model\n",
    "model = madsnn2(device=device, type=\"nwd\",kernel=\"gauss\",input_k=2,input_q=2, input_v=1, hidden_size=32)"
   ]
  },
  {
   "cell_type": "code",
   "execution_count": 11,
   "id": "88cf241f",
   "metadata": {},
   "outputs": [],
   "source": [
    "# optimzer\n",
    "optimizer = torch.optim.Adam(model.parameters(), lr=1e-3) #8e-3\n",
    "#optimizer = torch.optim.SGD(model.parameters(), lr=0.1)\n",
    "\n",
    "# criterion\n",
    "criterion = torch.nn.MSELoss()\n",
    "\n",
    "# steams object\n",
    "obj = attention_steams(model,device)\n",
    "obj.init_optimizer(optimizer)\n",
    "obj.init_criterion(criterion)"
   ]
  },
  {
   "cell_type": "markdown",
   "id": "97b1e9a4",
   "metadata": {},
   "source": [
    "## Training"
   ]
  },
  {
   "cell_type": "code",
   "execution_count": null,
   "id": "800d0835",
   "metadata": {},
   "outputs": [
    {
     "name": "stdout",
     "output_type": "stream",
     "text": [
      "  epoch     train     valid\n",
      "0     0  0.519594  0.307192\n"
     ]
    }
   ],
   "source": [
    "# training\n",
    "train(obj,train_dataset,valid_dataset,niter=100,n_iter_stop=20,batch_size=1,shuffle=True,num_workers=num_workers,pin_memory=pin_memory,resdir=None)"
   ]
  },
  {
   "cell_type": "code",
   "execution_count": null,
   "id": "f2553388",
   "metadata": {},
   "outputs": [],
   "source": [
    "obj.save_model(resdir,\"2d-nwdnn2\")"
   ]
  },
  {
   "cell_type": "markdown",
   "id": "d3446167",
   "metadata": {},
   "source": [
    "## Evaluation"
   ]
  },
  {
   "cell_type": "code",
   "execution_count": null,
   "id": "7c99b123",
   "metadata": {},
   "outputs": [],
   "source": [
    "params['Y']['path'] = os.path.join(parent_dir,\"session\",\"synth_1000_Y_eval\")\n",
    "params['X']['path'] = os.path.join(parent_dir,\"session\",\"synth_1000_X_eval\")\n",
    "\n",
    "eval_dataset = KVyQVx(params)"
   ]
  },
  {
   "cell_type": "code",
   "execution_count": null,
   "id": "9e8eb274",
   "metadata": {},
   "outputs": [],
   "source": [
    "criterion = R2()\n",
    "#criterion = torch.nn.MSELoss()\n",
    "obj.init_criterion(criterion)"
   ]
  },
  {
   "cell_type": "code",
   "execution_count": null,
   "id": "315f3751",
   "metadata": {},
   "outputs": [],
   "source": [
    "evaluation(obj,eval_dataset,batch_size=1,shuffle=True,num_workers=num_workers,pin_memory=pin_memory,resdir=None)"
   ]
  },
  {
   "cell_type": "code",
   "execution_count": null,
   "id": "261870e1",
   "metadata": {},
   "outputs": [],
   "source": [
    "criterion = RMSE()\n",
    "obj.init_criterion(criterion)"
   ]
  },
  {
   "cell_type": "code",
   "execution_count": null,
   "id": "85210a75",
   "metadata": {},
   "outputs": [],
   "source": [
    "evaluation(obj,eval_dataset,batch_size=1,shuffle=True,num_workers=num_workers,pin_memory=pin_memory,resdir=None)"
   ]
  },
  {
   "cell_type": "code",
   "execution_count": null,
   "id": "a50ddb56",
   "metadata": {},
   "outputs": [],
   "source": [
    "criterion = variance()\n",
    "obj.init_criterion(criterion)"
   ]
  },
  {
   "cell_type": "code",
   "execution_count": null,
   "id": "60ed14d8",
   "metadata": {},
   "outputs": [],
   "source": [
    "evaluation(obj,eval_dataset,batch_size=1,shuffle=True,num_workers=num_workers,pin_memory=pin_memory,resdir=None)"
   ]
  },
  {
   "cell_type": "markdown",
   "id": "1a23128c",
   "metadata": {},
   "source": [
    "## QQplot"
   ]
  },
  {
   "cell_type": "code",
   "execution_count": null,
   "id": "73dd5b4a",
   "metadata": {},
   "outputs": [],
   "source": [
    "params['Y']['path'] = os.path.join(parent_dir,\"session\",\"synth_1000_Y_eval\")\n",
    "params['X']['path'] = os.path.join(parent_dir,\"session\",\"synth_1000_X_eval\")\n",
    "\n",
    "eval_dataset = KVyQVx(params)"
   ]
  },
  {
   "cell_type": "code",
   "execution_count": null,
   "id": "37b63c3e",
   "metadata": {},
   "outputs": [],
   "source": [
    "results = prediction_prime(obj,eval_dataset)"
   ]
  },
  {
   "cell_type": "code",
   "execution_count": null,
   "id": "a79ab3e5",
   "metadata": {},
   "outputs": [],
   "source": [
    "pred_name = ['pred_' + v for v in eval_dataset.VALUE_X]\n",
    "\n",
    "fig, ax= plt.subplots(figsize=(14, 12))\n",
    "ax.scatter(results.loc[:,eval_dataset.VALUE_X],results.loc[:,pred_name], linewidth=2.0,c=\"black\")\n",
    "ax.axline((0, 0), slope=1., color='blue')\n",
    "ax.set_xlim(0, 2.5)\n",
    "ax.set_ylim(results.loc[:,pred_name].min().item()-0.5, results.loc[:,pred_name].max().item()+0.5)\n",
    "ax.set(xlabel='observations', ylabel='predictions')\n",
    "\n",
    "fig_filename = os.path.join(parent_dir,'fig','2d-qqplot.png')\n",
    "plt.savefig(fig_filename, dpi = 300)"
   ]
  },
  {
   "cell_type": "markdown",
   "id": "019a51b9",
   "metadata": {},
   "source": [
    "## Illustration of Wq on a map"
   ]
  },
  {
   "cell_type": "code",
   "execution_count": null,
   "id": "7f6c68cd",
   "metadata": {},
   "outputs": [],
   "source": [
    "params['Y']['path'] = os.path.join(parent_dir,\"session\",\"synth_1000_Y_eval\")\n",
    "params['X']['path'] = os.path.join(parent_dir,\"session\",\"synth_sensor_6400\")\n",
    "params['X']['nb_location'] = 6400\n",
    "\n",
    "eval_dataset = KVyQVx(params)"
   ]
  },
  {
   "cell_type": "code",
   "execution_count": null,
   "id": "d9c2a4bb",
   "metadata": {},
   "outputs": [],
   "source": [
    "eval_dataset.scale(True)\n",
    "obj.model.eval()\n",
    "with torch.no_grad():\n",
    "    results = pd.DataFrame(columns=['x','y','Wqx','Wqy','Wo'])\n",
    "    obs=[]\n",
    "    pred=[]\n",
    "    for i in range(len(eval_dataset)):\n",
    "        \n",
    "        KEY_Y,VALUE_Y,QUERY_X, VALUE_X = eval_dataset[i]\n",
    "        QUERY_X = QUERY_X.to(obj.device)\n",
    "    \n",
    "        # input with dimension batch and on device\n",
    "        QUERY_X = torch.reshape(QUERY_X,(1,QUERY_X.shape[0],QUERY_X.shape[1]))\n",
    "        \n",
    "        W = obj.model.W(QUERY_X.float() ).detach().cpu().numpy()\n",
    "        Wo = obj.model.Wo(QUERY_X.float() ).detach().cpu().numpy()\n",
    "        \n",
    "        QUERY_X_unscaled = eval_dataset.unscale(QUERY_X.detach(),\"QUERY\")\n",
    "        \n",
    "        tmp = np.concatenate((QUERY_X_unscaled, W,Wo),2)\n",
    "        tmp = np.reshape(tmp,(tmp.shape[1],tmp.shape[2]))\n",
    "        \n",
    "        tmp_df = pd.DataFrame(tmp,columns=['x','y','Wqx','Wqy','Wo'])\n",
    "        \n",
    "        results = results.append(tmp_df,ignore_index=True)\n",
    "eval_dataset.scale(False)        "
   ]
  },
  {
   "cell_type": "code",
   "execution_count": null,
   "id": "75484494",
   "metadata": {},
   "outputs": [],
   "source": [
    "fig = plt.figure(constrained_layout=True,figsize=(14, 12))\n",
    "gs = GridSpec(4, 4, figure=fig)\n",
    "\n",
    "ax0 = fig.add_subplot(gs[0,0])\n",
    "c0 = ax0.scatter(x=results[\"x\"], y=results[\"y\"], c=results[\"Wqx\"], vmax=np.max(results[\"Wqx\"]))\n",
    "ax0.set(ylabel='Y',xlabel='X')\n",
    "\n",
    "ax1 = fig.add_subplot(gs[1,0])\n",
    "c1 = ax1.scatter(x=results[\"x\"], y=results[\"y\"], c=results[\"Wqy\"], vmax=np.max(results[\"Wqy\"]))\n",
    "ax1.set(ylabel='Y',xlabel='X')\n",
    "\n",
    "ax2 = fig.add_subplot(gs[2,0])\n",
    "c2 = ax2.scatter(x=results[\"x\"], y=results[\"y\"], c=results[\"Wo\"], vmax=np.max(results[\"Wo\"]))\n",
    "ax2.set(ylabel='Y',xlabel='X')\n",
    "\n",
    "\n",
    "fig.colorbar(c0, ax=ax0)\n",
    "fig.colorbar(c1, ax=ax1)\n",
    "fig.colorbar(c2, ax=ax2)\n",
    "\n",
    "fig_filename = os.path.join(parent_dir,'fig','2d-illustration_W.png')\n",
    "plt.savefig(fig_filename, dpi = 300)\n"
   ]
  },
  {
   "cell_type": "markdown",
   "id": "356c8a8d",
   "metadata": {},
   "source": [
    "## ensemble, quantiles and p-value "
   ]
  },
  {
   "cell_type": "code",
   "execution_count": null,
   "id": "5b76a15c",
   "metadata": {},
   "outputs": [],
   "source": [
    "params['Y']['path'] = os.path.join(parent_dir,\"session\",\"synth_1000_Y_eval\")\n",
    "params['X']['path'] = os.path.join(parent_dir,\"session\",\"synth_1000_X_eval\")\n",
    "\n",
    "eval_dataset = KVyQVx(params)"
   ]
  },
  {
   "cell_type": "code",
   "execution_count": null,
   "id": "e3d51c29",
   "metadata": {},
   "outputs": [],
   "source": [
    "# !! might take some time\n",
    "ensemble = ensemble_prime(obj,eval_dataset,N=2)"
   ]
  },
  {
   "cell_type": "code",
   "execution_count": null,
   "id": "2c837290",
   "metadata": {},
   "outputs": [],
   "source": [
    "ensemble.to_csv(os.path.join(resdir,'2d-ensemble.csv'))"
   ]
  },
  {
   "cell_type": "markdown",
   "id": "a9a199d4",
   "metadata": {},
   "source": [
    "### metrics"
   ]
  },
  {
   "cell_type": "code",
   "execution_count": null,
   "id": "1ee5125d",
   "metadata": {},
   "outputs": [],
   "source": [
    "obs = torch.tensor(ensemble[('sensor_hq', 'mean')].to_numpy())\n",
    "obs = torch.reshape(obs,(1,obs.shape[0],1))\n",
    "q0_5 = torch.tensor(ensemble[('pred_sensor_hq','q0_5')].to_numpy())\n",
    "q0_5 = torch.reshape(q0_5,(1,q0_5.shape[0],1))"
   ]
  },
  {
   "cell_type": "code",
   "execution_count": null,
   "id": "7ac8dec7",
   "metadata": {},
   "outputs": [],
   "source": [
    "criterion = R2()\n",
    "criterion(obs,q0_5)"
   ]
  },
  {
   "cell_type": "code",
   "execution_count": null,
   "id": "5ecc7f6d",
   "metadata": {},
   "outputs": [],
   "source": [
    "criterion = RMSE()\n",
    "criterion(obs,q0_5)"
   ]
  },
  {
   "cell_type": "code",
   "execution_count": null,
   "id": "43f2f0eb",
   "metadata": {},
   "outputs": [],
   "source": [
    "criterion = variance()\n",
    "criterion(obs,q0_5)"
   ]
  },
  {
   "cell_type": "markdown",
   "id": "58f6c830",
   "metadata": {},
   "source": [
    "### qqplot of the observation against the median of the ensemble at each location"
   ]
  },
  {
   "cell_type": "code",
   "execution_count": null,
   "id": "53a90a13",
   "metadata": {},
   "outputs": [],
   "source": [
    "fig, ax= plt.subplots(figsize=(14, 12))\n",
    "ax.scatter(ensemble[('sensor_hq', 'mean')],ensemble[('pred_sensor_hq','q0_5')], linewidth=2.0,c=\"black\")\n",
    "ax.axline((0, 0), slope=1., color='blue')\n",
    "ax.set_xlim(0, 2.5)\n",
    "ax.set_ylim(ensemble[('pred_sensor_hq','q0_5')].min().item()-0.5, ensemble[('pred_sensor_hq','q0_5')].max().item()+0.5)\n",
    "ax.set(xlabel='observations', ylabel='median-ensemble')\n",
    "\n",
    "fig_filename = os.path.join(parent_dir,'fig','2d-ensemble_q0_5_qqplot.png')\n",
    "plt.savefig(fig_filename, dpi = 300)"
   ]
  },
  {
   "cell_type": "markdown",
   "id": "e5b302ef",
   "metadata": {},
   "source": [
    "### p-qqplot of the p-value of the obsevration within its ensemble against an uniform distribution"
   ]
  },
  {
   "cell_type": "code",
   "execution_count": null,
   "id": "88c71079",
   "metadata": {},
   "outputs": [],
   "source": [
    "ensemble = ensemble.sort_values(by='p_sensor_hq')\n",
    "ensemble[\"U\"] = np.linspace(0, 1, num=ensemble.shape[0])    "
   ]
  },
  {
   "cell_type": "code",
   "execution_count": null,
   "id": "a04fe3a2",
   "metadata": {},
   "outputs": [],
   "source": [
    "fig, ax= plt.subplots(figsize=(8, 8))\n",
    "ax.scatter(ensemble['U'],ensemble['p_sensor_hq'], linewidth=2.0,c=\"black\")\n",
    "ax.axline((0, 0), slope=1., color='blue')\n",
    "ax.set_xlim(0, 1)\n",
    "ax.set_ylim(0,1)\n",
    "ax.set(xlabel='U[0,1]', ylabel='p-value of observation')\n",
    "\n",
    "fig_filename = os.path.join(parent_dir,'fig','2d-p_qqplot.png')\n",
    "plt.savefig(fig_filename, dpi = 300)"
   ]
  },
  {
   "cell_type": "markdown",
   "id": "9a4576ff",
   "metadata": {},
   "source": [
    "Signification of the graph: the window of the predicted error is underestimated."
   ]
  },
  {
   "cell_type": "markdown",
   "id": "9f87a119",
   "metadata": {},
   "source": [
    "## Illustration of quantile on maps"
   ]
  },
  {
   "cell_type": "code",
   "execution_count": null,
   "id": "c6ce3bdb",
   "metadata": {},
   "outputs": [],
   "source": [
    "params['Y']['path'] = os.path.join(parent_dir,\"session\",\"synth_1000_Y_eval\")\n",
    "params['X']['path'] = os.path.join(parent_dir,\"session\",\"synth_sensor_6400\")\n",
    "params['X']['nb_location'] = 6400\n",
    "\n",
    "eval_dataset = KVyQVx(params)"
   ]
  },
  {
   "cell_type": "code",
   "execution_count": null,
   "id": "fe4aab53",
   "metadata": {},
   "outputs": [],
   "source": [
    "# scaling\n",
    "eval_dataset.scale(True)"
   ]
  },
  {
   "cell_type": "code",
   "execution_count": null,
   "id": "0455ff34",
   "metadata": {},
   "outputs": [],
   "source": [
    "# !! might take some time\n",
    "ensemble = ensemble_prime(obj,eval_dataset,N=2)"
   ]
  },
  {
   "cell_type": "code",
   "execution_count": null,
   "id": "6b220269",
   "metadata": {},
   "outputs": [],
   "source": [
    "ensemble = ensemble.reset_index()"
   ]
  },
  {
   "cell_type": "code",
   "execution_count": null,
   "id": "bc45e36e",
   "metadata": {
    "scrolled": true
   },
   "outputs": [],
   "source": [
    "vmax = np.array(\n",
    "    np.abs(np.array([ensemble[('pred_sensor_hq','q0_05')] - ensemble[('pred_sensor_hq','q0_5')]])).max(),\n",
    "    np.array([ensemble[('pred_sensor_hq','q0_95')] - ensemble[('pred_sensor_hq','q0_5')]]).max()).max()\n"
   ]
  },
  {
   "cell_type": "code",
   "execution_count": null,
   "id": "9869b4c2",
   "metadata": {},
   "outputs": [],
   "source": [
    "fig = plt.figure(constrained_layout=True,figsize=(14, 12))\n",
    "gs = GridSpec(4, 4, figure=fig)\n",
    "\n",
    "ax0 = fig.add_subplot(gs[0,0])\n",
    "c0 = ax0.scatter(x=ensemble[\"x\"], y=ensemble[\"y\"], c=ensemble[('sensor_hq', 'mean')])\n",
    "ax0.set(ylabel='Y',xlabel='X')\n",
    "\n",
    "ax1 = fig.add_subplot(gs[1,0])\n",
    "c1 = ax1.scatter(x=ensemble[\"x\"], y=ensemble[\"y\"], c=np.abs(ensemble[('pred_sensor_hq', 'q0_05')]- ensemble[('pred_sensor_hq', 'q0_5')]), vmin = 0, vmax=vmax)\n",
    "ax1.set(ylabel='Y',xlabel='X')\n",
    "\n",
    "ax2 = fig.add_subplot(gs[2,0])\n",
    "c2 = ax2.scatter(x=ensemble[\"x\"], y=ensemble[\"y\"], c=ensemble[('pred_sensor_hq', 'q0_95')] - ensemble[('pred_sensor_hq', 'q0_5')], vmin = 0, vmax=vmax)\n",
    "ax2.set(ylabel='Y',xlabel='X')\n",
    "\n",
    "\n",
    "fig.colorbar(c0, ax=ax0)\n",
    "fig.colorbar(c1, ax=ax1)\n",
    "fig.colorbar(c2, ax=ax2)\n",
    "\n",
    "fig_filename = os.path.join(parent_dir,'fig','2d-illustration_diff_median-q005_and_median-q095.png')\n",
    "plt.savefig(fig_filename, dpi = 300)\n"
   ]
  },
  {
   "cell_type": "code",
   "execution_count": null,
   "id": "752d6ee8",
   "metadata": {},
   "outputs": [],
   "source": []
  }
 ],
 "metadata": {
  "kernelspec": {
   "display_name": "Python 3",
   "language": "python",
   "name": "python3"
  },
  "language_info": {
   "codemirror_mode": {
    "name": "ipython",
    "version": 3
   },
   "file_extension": ".py",
   "mimetype": "text/x-python",
   "name": "python",
   "nbconvert_exporter": "python",
   "pygments_lexer": "ipython3",
   "version": "3.8.10"
  }
 },
 "nbformat": 4,
 "nbformat_minor": 5
}
