{
 "cells": [
  {
   "cell_type": "code",
   "execution_count": 1,
   "id": "c1872a33",
   "metadata": {},
   "outputs": [],
   "source": [
    "import pandas as pd\n",
    "import os\n",
    "import json\n",
    "import numpy as np\n",
    "import torch\n",
    "from steams.data.KVyQVx import KVyQVx\n",
    "from steams.models.mads import mads\n",
    "from steams.tepe.steams import attention_steams\n",
    "from steams.tepe.tepe import train, evaluation,prediction_prime,ensemble_prime\n",
    "from steams.utils.criterion import R2,RMSE,variance\n",
    "import matplotlib.pyplot as plt"
   ]
  },
  {
   "cell_type": "code",
   "execution_count": 2,
   "id": "b536c97f",
   "metadata": {},
   "outputs": [],
   "source": [
    "parent_dir = os.path.abspath(os.path.join(os.path.abspath(os.getcwd()), os.pardir))"
   ]
  },
  {
   "cell_type": "code",
   "execution_count": 3,
   "id": "acb6cae9",
   "metadata": {},
   "outputs": [],
   "source": [
    "if torch.cuda.is_available():\n",
    "    cuda_name = \"1\"\n",
    "    num_workers=0\n",
    "    pin_memory = True\n",
    "    device = torch.device('cuda'+\":\"+cuda_name)\n",
    "else:\n",
    "    num_workers = 0\n",
    "    pin_memory = False\n",
    "    device = torch.device('cpu')"
   ]
  },
  {
   "cell_type": "code",
   "execution_count": 4,
   "id": "f9b6b2e7",
   "metadata": {},
   "outputs": [
    {
     "data": {
      "text/plain": [
       "device(type='cuda', index=1)"
      ]
     },
     "execution_count": 4,
     "metadata": {},
     "output_type": "execute_result"
    }
   ],
   "source": [
    "device"
   ]
  },
  {
   "cell_type": "markdown",
   "id": "28528cd3",
   "metadata": {},
   "source": [
    "## train/valid dataset"
   ]
  },
  {
   "cell_type": "code",
   "execution_count": 5,
   "id": "81a17e31",
   "metadata": {},
   "outputs": [],
   "source": [
    "config_dir = os.path.join(parent_dir,'config')"
   ]
  },
  {
   "cell_type": "code",
   "execution_count": 6,
   "id": "802104cc",
   "metadata": {},
   "outputs": [],
   "source": [
    "f_config = open(os.path.join(config_dir,'train_eval_attention_cpu.json'),encoding='utf8')\n",
    "params = json.load(f_config)"
   ]
  },
  {
   "cell_type": "code",
   "execution_count": 7,
   "id": "8516878b",
   "metadata": {},
   "outputs": [],
   "source": [
    "params['data']['Y']['path'] = os.path.join(parent_dir,\"session\",\"synth_1000_Y_train_6s\")\n",
    "params['data']['Y']['VALUE'] = ['value']\n",
    "params['data']['Y']['KEY'] = ['x','y','rmse','variance']\n",
    "params['data']['Y']['nb_location'] = 6000 # 6x1000, 6 sources\n",
    "params['data']['Y']['nb_sampling'] = 100\n",
    "\n",
    "params['data']['X']['path'] = os.path.join(parent_dir,\"session\",\"synth_1000_X_train_6s\")\n",
    "params['data']['X']['VALUE'] = ['ref']\n",
    "params['data']['X']['QUERY'] = ['x','y','rmse_ref','variance_ref']\n",
    "params['data']['X']['nb_location'] = 6000 # 6x1000, 6 sources\n",
    "params['data']['X']['nb_sampling'] = 100\n",
    "\n",
    "train_dataset = KVyQVx(params['data'])"
   ]
  },
  {
   "cell_type": "code",
   "execution_count": 8,
   "id": "e3a741e1",
   "metadata": {},
   "outputs": [],
   "source": [
    "params['data']['Y']['path'] = os.path.join(parent_dir,\"session\",\"synth_1000_Y_valid_6s\")\n",
    "params['data']['Y']['VALUE'] = ['value']\n",
    "params['data']['Y']['KEY'] = ['x','y','rmse','variance']\n",
    "params['data']['Y']['nb_location'] = 6000 # 6x1000, 6 sources\n",
    "params['data']['Y']['nb_sampling'] = 100\n",
    "\n",
    "params['data']['X']['path'] = os.path.join(parent_dir,\"session\",\"synth_1000_X_valid_6s\")\n",
    "params['data']['X']['VALUE'] = ['ref']\n",
    "params['data']['X']['QUERY'] = ['x','y','rmse_ref','variance_ref']\n",
    "params['data']['X']['nb_location'] = 6000 # 6x1000, 6 sources\n",
    "params['data']['X']['nb_sampling'] = 100\n",
    "\n",
    "valid_dataset = KVyQVx(params['data'])"
   ]
  },
  {
   "cell_type": "markdown",
   "id": "6339b34d",
   "metadata": {},
   "source": [
    "## model, optimizer, criterion, scheduler"
   ]
  },
  {
   "cell_type": "code",
   "execution_count": 12,
   "id": "4ca40157",
   "metadata": {},
   "outputs": [],
   "source": [
    "#model\n",
    "model = mads(device,type=\"krig\",kernel=\"exp\",input_k=4)"
   ]
  },
  {
   "cell_type": "code",
   "execution_count": 13,
   "id": "219fac71",
   "metadata": {},
   "outputs": [],
   "source": [
    "# optimzer\n",
    "optimizer = torch.optim.Adam([model.W], lr=1e-4) #8e-3\n",
    "\n",
    "# criterion\n",
    "criterion = torch.nn.MSELoss()\n",
    "\n",
    "# steams object\n",
    "obj = attention_steams(model,device)\n",
    "obj.init_optimizer(optimizer)\n",
    "obj.init_criterion(criterion)"
   ]
  },
  {
   "cell_type": "markdown",
   "id": "6aeae426",
   "metadata": {},
   "source": [
    "## Training"
   ]
  },
  {
   "cell_type": "code",
   "execution_count": 14,
   "id": "5b5c3d6b",
   "metadata": {},
   "outputs": [
    {
     "ename": "KeyboardInterrupt",
     "evalue": "",
     "output_type": "error",
     "traceback": [
      "\u001b[0;31m---------------------------------------------------------------------------\u001b[0m",
      "\u001b[0;31mKeyboardInterrupt\u001b[0m                         Traceback (most recent call last)",
      "\u001b[0;32m<ipython-input-14-0594543b671e>\u001b[0m in \u001b[0;36m<module>\u001b[0;34m\u001b[0m\n\u001b[1;32m      1\u001b[0m \u001b[0;31m# training\u001b[0m\u001b[0;34m\u001b[0m\u001b[0;34m\u001b[0m\u001b[0;34m\u001b[0m\u001b[0m\n\u001b[0;32m----> 2\u001b[0;31m \u001b[0mtrain\u001b[0m\u001b[0;34m(\u001b[0m\u001b[0mobj\u001b[0m\u001b[0;34m,\u001b[0m\u001b[0mtrain_dataset\u001b[0m\u001b[0;34m,\u001b[0m\u001b[0mvalid_dataset\u001b[0m\u001b[0;34m,\u001b[0m\u001b[0mniter\u001b[0m\u001b[0;34m=\u001b[0m\u001b[0;36m200\u001b[0m\u001b[0;34m,\u001b[0m\u001b[0mn_iter_stop\u001b[0m\u001b[0;34m=\u001b[0m\u001b[0;36m20\u001b[0m\u001b[0;34m,\u001b[0m\u001b[0mbatch_size\u001b[0m\u001b[0;34m=\u001b[0m\u001b[0;36m1\u001b[0m\u001b[0;34m,\u001b[0m\u001b[0mshuffle\u001b[0m\u001b[0;34m=\u001b[0m\u001b[0;32mTrue\u001b[0m\u001b[0;34m,\u001b[0m\u001b[0mnum_workers\u001b[0m\u001b[0;34m=\u001b[0m\u001b[0mnum_workers\u001b[0m\u001b[0;34m,\u001b[0m\u001b[0mpin_memory\u001b[0m\u001b[0;34m=\u001b[0m\u001b[0mpin_memory\u001b[0m\u001b[0;34m,\u001b[0m\u001b[0mresdir\u001b[0m\u001b[0;34m=\u001b[0m\u001b[0;32mNone\u001b[0m\u001b[0;34m)\u001b[0m\u001b[0;34m\u001b[0m\u001b[0;34m\u001b[0m\u001b[0m\n\u001b[0m",
      "\u001b[0;32m~/tmp/local_pkg/steams_pkg/steams/tepe/tepe.py\u001b[0m in \u001b[0;36mtrain\u001b[0;34m(obj, train_class_data, valid_class_data, niter, n_iter_stop, batch_size, shuffle, num_workers, pin_memory, resdir)\u001b[0m\n\u001b[1;32m     36\u001b[0m         \u001b[0mloss_tmp\u001b[0m \u001b[0;34m=\u001b[0m \u001b[0mpd\u001b[0m\u001b[0;34m.\u001b[0m\u001b[0mDataFrame\u001b[0m\u001b[0;34m(\u001b[0m\u001b[0mcolumns\u001b[0m\u001b[0;34m=\u001b[0m\u001b[0;34m[\u001b[0m\u001b[0;34m'epoch'\u001b[0m\u001b[0;34m,\u001b[0m\u001b[0;34m'train'\u001b[0m\u001b[0;34m,\u001b[0m\u001b[0;34m'valid'\u001b[0m\u001b[0;34m]\u001b[0m\u001b[0;34m)\u001b[0m\u001b[0;34m\u001b[0m\u001b[0;34m\u001b[0m\u001b[0m\n\u001b[1;32m     37\u001b[0m         \u001b[0mloss_tmp\u001b[0m\u001b[0;34m.\u001b[0m\u001b[0mloc\u001b[0m\u001b[0;34m[\u001b[0m\u001b[0;36m0\u001b[0m\u001b[0;34m,\u001b[0m\u001b[0;34m'epoch'\u001b[0m\u001b[0;34m]\u001b[0m \u001b[0;34m=\u001b[0m \u001b[0mepoch\u001b[0m\u001b[0;34m\u001b[0m\u001b[0;34m\u001b[0m\u001b[0m\n\u001b[0;32m---> 38\u001b[0;31m         \u001b[0mloss_tmp\u001b[0m\u001b[0;34m.\u001b[0m\u001b[0mloc\u001b[0m\u001b[0;34m[\u001b[0m\u001b[0;36m0\u001b[0m\u001b[0;34m,\u001b[0m\u001b[0;34m'train'\u001b[0m\u001b[0;34m]\u001b[0m \u001b[0;34m=\u001b[0m \u001b[0mobj\u001b[0m\u001b[0;34m.\u001b[0m\u001b[0msingle_train\u001b[0m\u001b[0;34m(\u001b[0m\u001b[0mtrain_data_loader\u001b[0m\u001b[0;34m)\u001b[0m\u001b[0;34m\u001b[0m\u001b[0;34m\u001b[0m\u001b[0m\n\u001b[0m\u001b[1;32m     39\u001b[0m         \u001b[0mloss_tmp\u001b[0m\u001b[0;34m.\u001b[0m\u001b[0mloc\u001b[0m\u001b[0;34m[\u001b[0m\u001b[0;36m0\u001b[0m\u001b[0;34m,\u001b[0m\u001b[0;34m'valid'\u001b[0m\u001b[0;34m]\u001b[0m \u001b[0;34m=\u001b[0m \u001b[0mobj\u001b[0m\u001b[0;34m.\u001b[0m\u001b[0mloss\u001b[0m\u001b[0;34m(\u001b[0m\u001b[0mvalid_data_loader\u001b[0m\u001b[0;34m)\u001b[0m\u001b[0;34m\u001b[0m\u001b[0;34m\u001b[0m\u001b[0m\n\u001b[1;32m     40\u001b[0m         \u001b[0mloss_res\u001b[0m \u001b[0;34m=\u001b[0m \u001b[0mpd\u001b[0m\u001b[0;34m.\u001b[0m\u001b[0mconcat\u001b[0m\u001b[0;34m(\u001b[0m\u001b[0;34m[\u001b[0m\u001b[0mloss_res\u001b[0m\u001b[0;34m,\u001b[0m\u001b[0mloss_tmp\u001b[0m\u001b[0;34m]\u001b[0m\u001b[0;34m,\u001b[0m\u001b[0maxis\u001b[0m\u001b[0;34m=\u001b[0m\u001b[0;36m0\u001b[0m\u001b[0;34m)\u001b[0m\u001b[0;34m\u001b[0m\u001b[0;34m\u001b[0m\u001b[0m\n",
      "\u001b[0;32m~/tmp/local_pkg/steams_pkg/steams/tepe/steams.py\u001b[0m in \u001b[0;36msingle_train\u001b[0;34m(self, data_loader)\u001b[0m\n\u001b[1;32m     44\u001b[0m         \u001b[0mrunning_loss\u001b[0m \u001b[0;34m=\u001b[0m \u001b[0;36m0.0\u001b[0m\u001b[0;34m\u001b[0m\u001b[0;34m\u001b[0m\u001b[0m\n\u001b[1;32m     45\u001b[0m         \u001b[0mself\u001b[0m\u001b[0;34m.\u001b[0m\u001b[0mmodel\u001b[0m\u001b[0;34m.\u001b[0m\u001b[0mtrain\u001b[0m\u001b[0;34m(\u001b[0m\u001b[0;34m)\u001b[0m\u001b[0;34m\u001b[0m\u001b[0;34m\u001b[0m\u001b[0m\n\u001b[0;32m---> 46\u001b[0;31m         \u001b[0;32mfor\u001b[0m \u001b[0mi\u001b[0m\u001b[0;34m,\u001b[0m \u001b[0;34m(\u001b[0m\u001b[0mKEY_Y\u001b[0m\u001b[0;34m,\u001b[0m\u001b[0mVALUE_Y\u001b[0m\u001b[0;34m,\u001b[0m\u001b[0mQUERY_X\u001b[0m\u001b[0;34m,\u001b[0m\u001b[0mVALUE_X\u001b[0m\u001b[0;34m)\u001b[0m \u001b[0;32min\u001b[0m \u001b[0menumerate\u001b[0m\u001b[0;34m(\u001b[0m\u001b[0mdata_loader\u001b[0m\u001b[0;34m)\u001b[0m\u001b[0;34m:\u001b[0m\u001b[0;34m\u001b[0m\u001b[0;34m\u001b[0m\u001b[0m\n\u001b[0m\u001b[1;32m     47\u001b[0m \u001b[0;34m\u001b[0m\u001b[0m\n\u001b[1;32m     48\u001b[0m             \u001b[0mKEY_Y\u001b[0m \u001b[0;34m=\u001b[0m \u001b[0mKEY_Y\u001b[0m\u001b[0;34m.\u001b[0m\u001b[0mto\u001b[0m\u001b[0;34m(\u001b[0m\u001b[0mself\u001b[0m\u001b[0;34m.\u001b[0m\u001b[0mdevice\u001b[0m\u001b[0;34m)\u001b[0m\u001b[0;34m\u001b[0m\u001b[0;34m\u001b[0m\u001b[0m\n",
      "\u001b[0;32m~/.local/lib/python3.8/site-packages/torch/utils/data/dataloader.py\u001b[0m in \u001b[0;36m__next__\u001b[0;34m(self)\u001b[0m\n\u001b[1;32m    528\u001b[0m             \u001b[0;32mif\u001b[0m \u001b[0mself\u001b[0m\u001b[0;34m.\u001b[0m\u001b[0m_sampler_iter\u001b[0m \u001b[0;32mis\u001b[0m \u001b[0;32mNone\u001b[0m\u001b[0;34m:\u001b[0m\u001b[0;34m\u001b[0m\u001b[0;34m\u001b[0m\u001b[0m\n\u001b[1;32m    529\u001b[0m                 \u001b[0mself\u001b[0m\u001b[0;34m.\u001b[0m\u001b[0m_reset\u001b[0m\u001b[0;34m(\u001b[0m\u001b[0;34m)\u001b[0m\u001b[0;34m\u001b[0m\u001b[0;34m\u001b[0m\u001b[0m\n\u001b[0;32m--> 530\u001b[0;31m             \u001b[0mdata\u001b[0m \u001b[0;34m=\u001b[0m \u001b[0mself\u001b[0m\u001b[0;34m.\u001b[0m\u001b[0m_next_data\u001b[0m\u001b[0;34m(\u001b[0m\u001b[0;34m)\u001b[0m\u001b[0;34m\u001b[0m\u001b[0;34m\u001b[0m\u001b[0m\n\u001b[0m\u001b[1;32m    531\u001b[0m             \u001b[0mself\u001b[0m\u001b[0;34m.\u001b[0m\u001b[0m_num_yielded\u001b[0m \u001b[0;34m+=\u001b[0m \u001b[0;36m1\u001b[0m\u001b[0;34m\u001b[0m\u001b[0;34m\u001b[0m\u001b[0m\n\u001b[1;32m    532\u001b[0m             \u001b[0;32mif\u001b[0m \u001b[0mself\u001b[0m\u001b[0;34m.\u001b[0m\u001b[0m_dataset_kind\u001b[0m \u001b[0;34m==\u001b[0m \u001b[0m_DatasetKind\u001b[0m\u001b[0;34m.\u001b[0m\u001b[0mIterable\u001b[0m \u001b[0;32mand\u001b[0m\u001b[0;31m \u001b[0m\u001b[0;31m\\\u001b[0m\u001b[0;34m\u001b[0m\u001b[0;34m\u001b[0m\u001b[0m\n",
      "\u001b[0;32m~/.local/lib/python3.8/site-packages/torch/utils/data/dataloader.py\u001b[0m in \u001b[0;36m_next_data\u001b[0;34m(self)\u001b[0m\n\u001b[1;32m    568\u001b[0m     \u001b[0;32mdef\u001b[0m \u001b[0m_next_data\u001b[0m\u001b[0;34m(\u001b[0m\u001b[0mself\u001b[0m\u001b[0;34m)\u001b[0m\u001b[0;34m:\u001b[0m\u001b[0;34m\u001b[0m\u001b[0;34m\u001b[0m\u001b[0m\n\u001b[1;32m    569\u001b[0m         \u001b[0mindex\u001b[0m \u001b[0;34m=\u001b[0m \u001b[0mself\u001b[0m\u001b[0;34m.\u001b[0m\u001b[0m_next_index\u001b[0m\u001b[0;34m(\u001b[0m\u001b[0;34m)\u001b[0m  \u001b[0;31m# may raise StopIteration\u001b[0m\u001b[0;34m\u001b[0m\u001b[0;34m\u001b[0m\u001b[0m\n\u001b[0;32m--> 570\u001b[0;31m         \u001b[0mdata\u001b[0m \u001b[0;34m=\u001b[0m \u001b[0mself\u001b[0m\u001b[0;34m.\u001b[0m\u001b[0m_dataset_fetcher\u001b[0m\u001b[0;34m.\u001b[0m\u001b[0mfetch\u001b[0m\u001b[0;34m(\u001b[0m\u001b[0mindex\u001b[0m\u001b[0;34m)\u001b[0m  \u001b[0;31m# may raise StopIteration\u001b[0m\u001b[0;34m\u001b[0m\u001b[0;34m\u001b[0m\u001b[0m\n\u001b[0m\u001b[1;32m    571\u001b[0m         \u001b[0;32mif\u001b[0m \u001b[0mself\u001b[0m\u001b[0;34m.\u001b[0m\u001b[0m_pin_memory\u001b[0m\u001b[0;34m:\u001b[0m\u001b[0;34m\u001b[0m\u001b[0;34m\u001b[0m\u001b[0m\n\u001b[1;32m    572\u001b[0m             \u001b[0mdata\u001b[0m \u001b[0;34m=\u001b[0m \u001b[0m_utils\u001b[0m\u001b[0;34m.\u001b[0m\u001b[0mpin_memory\u001b[0m\u001b[0;34m.\u001b[0m\u001b[0mpin_memory\u001b[0m\u001b[0;34m(\u001b[0m\u001b[0mdata\u001b[0m\u001b[0;34m)\u001b[0m\u001b[0;34m\u001b[0m\u001b[0;34m\u001b[0m\u001b[0m\n",
      "\u001b[0;32m~/.local/lib/python3.8/site-packages/torch/utils/data/_utils/fetch.py\u001b[0m in \u001b[0;36mfetch\u001b[0;34m(self, possibly_batched_index)\u001b[0m\n\u001b[1;32m     47\u001b[0m     \u001b[0;32mdef\u001b[0m \u001b[0mfetch\u001b[0m\u001b[0;34m(\u001b[0m\u001b[0mself\u001b[0m\u001b[0;34m,\u001b[0m \u001b[0mpossibly_batched_index\u001b[0m\u001b[0;34m)\u001b[0m\u001b[0;34m:\u001b[0m\u001b[0;34m\u001b[0m\u001b[0;34m\u001b[0m\u001b[0m\n\u001b[1;32m     48\u001b[0m         \u001b[0;32mif\u001b[0m \u001b[0mself\u001b[0m\u001b[0;34m.\u001b[0m\u001b[0mauto_collation\u001b[0m\u001b[0;34m:\u001b[0m\u001b[0;34m\u001b[0m\u001b[0;34m\u001b[0m\u001b[0m\n\u001b[0;32m---> 49\u001b[0;31m             \u001b[0mdata\u001b[0m \u001b[0;34m=\u001b[0m \u001b[0;34m[\u001b[0m\u001b[0mself\u001b[0m\u001b[0;34m.\u001b[0m\u001b[0mdataset\u001b[0m\u001b[0;34m[\u001b[0m\u001b[0midx\u001b[0m\u001b[0;34m]\u001b[0m \u001b[0;32mfor\u001b[0m \u001b[0midx\u001b[0m \u001b[0;32min\u001b[0m \u001b[0mpossibly_batched_index\u001b[0m\u001b[0;34m]\u001b[0m\u001b[0;34m\u001b[0m\u001b[0;34m\u001b[0m\u001b[0m\n\u001b[0m\u001b[1;32m     50\u001b[0m         \u001b[0;32melse\u001b[0m\u001b[0;34m:\u001b[0m\u001b[0;34m\u001b[0m\u001b[0;34m\u001b[0m\u001b[0m\n\u001b[1;32m     51\u001b[0m             \u001b[0mdata\u001b[0m \u001b[0;34m=\u001b[0m \u001b[0mself\u001b[0m\u001b[0;34m.\u001b[0m\u001b[0mdataset\u001b[0m\u001b[0;34m[\u001b[0m\u001b[0mpossibly_batched_index\u001b[0m\u001b[0;34m]\u001b[0m\u001b[0;34m\u001b[0m\u001b[0;34m\u001b[0m\u001b[0m\n",
      "\u001b[0;32m~/.local/lib/python3.8/site-packages/torch/utils/data/_utils/fetch.py\u001b[0m in \u001b[0;36m<listcomp>\u001b[0;34m(.0)\u001b[0m\n\u001b[1;32m     47\u001b[0m     \u001b[0;32mdef\u001b[0m \u001b[0mfetch\u001b[0m\u001b[0;34m(\u001b[0m\u001b[0mself\u001b[0m\u001b[0;34m,\u001b[0m \u001b[0mpossibly_batched_index\u001b[0m\u001b[0;34m)\u001b[0m\u001b[0;34m:\u001b[0m\u001b[0;34m\u001b[0m\u001b[0;34m\u001b[0m\u001b[0m\n\u001b[1;32m     48\u001b[0m         \u001b[0;32mif\u001b[0m \u001b[0mself\u001b[0m\u001b[0;34m.\u001b[0m\u001b[0mauto_collation\u001b[0m\u001b[0;34m:\u001b[0m\u001b[0;34m\u001b[0m\u001b[0;34m\u001b[0m\u001b[0m\n\u001b[0;32m---> 49\u001b[0;31m             \u001b[0mdata\u001b[0m \u001b[0;34m=\u001b[0m \u001b[0;34m[\u001b[0m\u001b[0mself\u001b[0m\u001b[0;34m.\u001b[0m\u001b[0mdataset\u001b[0m\u001b[0;34m[\u001b[0m\u001b[0midx\u001b[0m\u001b[0;34m]\u001b[0m \u001b[0;32mfor\u001b[0m \u001b[0midx\u001b[0m \u001b[0;32min\u001b[0m \u001b[0mpossibly_batched_index\u001b[0m\u001b[0;34m]\u001b[0m\u001b[0;34m\u001b[0m\u001b[0;34m\u001b[0m\u001b[0m\n\u001b[0m\u001b[1;32m     50\u001b[0m         \u001b[0;32melse\u001b[0m\u001b[0;34m:\u001b[0m\u001b[0;34m\u001b[0m\u001b[0;34m\u001b[0m\u001b[0m\n\u001b[1;32m     51\u001b[0m             \u001b[0mdata\u001b[0m \u001b[0;34m=\u001b[0m \u001b[0mself\u001b[0m\u001b[0;34m.\u001b[0m\u001b[0mdataset\u001b[0m\u001b[0;34m[\u001b[0m\u001b[0mpossibly_batched_index\u001b[0m\u001b[0;34m]\u001b[0m\u001b[0;34m\u001b[0m\u001b[0;34m\u001b[0m\u001b[0m\n",
      "\u001b[0;32m~/tmp/local_pkg/steams_pkg/steams/data/KVyQVx.py\u001b[0m in \u001b[0;36m__getitem__\u001b[0;34m(self, id)\u001b[0m\n\u001b[1;32m     96\u001b[0m \u001b[0;34m\u001b[0m\u001b[0m\n\u001b[1;32m     97\u001b[0m         \u001b[0;31m## VALUE_X\u001b[0m\u001b[0;34m\u001b[0m\u001b[0;34m\u001b[0m\u001b[0;34m\u001b[0m\u001b[0m\n\u001b[0;32m---> 98\u001b[0;31m         \u001b[0mtmp\u001b[0m \u001b[0;34m=\u001b[0m \u001b[0mself\u001b[0m\u001b[0;34m.\u001b[0m\u001b[0mdf_VALUE_X\u001b[0m\u001b[0;34m.\u001b[0m\u001b[0mloc\u001b[0m\u001b[0;34m[\u001b[0m\u001b[0mindice_X\u001b[0m\u001b[0;34m,\u001b[0m\u001b[0mself\u001b[0m\u001b[0;34m.\u001b[0m\u001b[0mVALUE_X\u001b[0m\u001b[0;34m]\u001b[0m\u001b[0;34m\u001b[0m\u001b[0;34m\u001b[0m\u001b[0m\n\u001b[0m\u001b[1;32m     99\u001b[0m         \u001b[0;32mif\u001b[0m \u001b[0mself\u001b[0m\u001b[0;34m.\u001b[0m\u001b[0mTO_SCALE\u001b[0m \u001b[0;34m==\u001b[0m \u001b[0;32mTrue\u001b[0m\u001b[0;34m:\u001b[0m\u001b[0;34m\u001b[0m\u001b[0;34m\u001b[0m\u001b[0m\n\u001b[1;32m    100\u001b[0m             \u001b[0mscaler\u001b[0m \u001b[0;34m=\u001b[0m \u001b[0mstandard_scaler\u001b[0m\u001b[0;34m\u001b[0m\u001b[0;34m\u001b[0m\u001b[0m\n",
      "\u001b[0;32m~/.local/lib/python3.8/site-packages/pandas/core/indexing.py\u001b[0m in \u001b[0;36m__getitem__\u001b[0;34m(self, key)\u001b[0m\n\u001b[1;32m    887\u001b[0m                     \u001b[0;31m# AttributeError for IntervalTree get_value\u001b[0m\u001b[0;34m\u001b[0m\u001b[0;34m\u001b[0m\u001b[0;34m\u001b[0m\u001b[0m\n\u001b[1;32m    888\u001b[0m                     \u001b[0;32mreturn\u001b[0m \u001b[0mself\u001b[0m\u001b[0;34m.\u001b[0m\u001b[0mobj\u001b[0m\u001b[0;34m.\u001b[0m\u001b[0m_get_value\u001b[0m\u001b[0;34m(\u001b[0m\u001b[0;34m*\u001b[0m\u001b[0mkey\u001b[0m\u001b[0;34m,\u001b[0m \u001b[0mtakeable\u001b[0m\u001b[0;34m=\u001b[0m\u001b[0mself\u001b[0m\u001b[0;34m.\u001b[0m\u001b[0m_takeable\u001b[0m\u001b[0;34m)\u001b[0m\u001b[0;34m\u001b[0m\u001b[0;34m\u001b[0m\u001b[0m\n\u001b[0;32m--> 889\u001b[0;31m             \u001b[0;32mreturn\u001b[0m \u001b[0mself\u001b[0m\u001b[0;34m.\u001b[0m\u001b[0m_getitem_tuple\u001b[0m\u001b[0;34m(\u001b[0m\u001b[0mkey\u001b[0m\u001b[0;34m)\u001b[0m\u001b[0;34m\u001b[0m\u001b[0;34m\u001b[0m\u001b[0m\n\u001b[0m\u001b[1;32m    890\u001b[0m         \u001b[0;32melse\u001b[0m\u001b[0;34m:\u001b[0m\u001b[0;34m\u001b[0m\u001b[0;34m\u001b[0m\u001b[0m\n\u001b[1;32m    891\u001b[0m             \u001b[0;31m# we by definition only have the 0th axis\u001b[0m\u001b[0;34m\u001b[0m\u001b[0;34m\u001b[0m\u001b[0;34m\u001b[0m\u001b[0m\n",
      "\u001b[0;32m~/.local/lib/python3.8/site-packages/pandas/core/indexing.py\u001b[0m in \u001b[0;36m_getitem_tuple\u001b[0;34m(self, tup)\u001b[0m\n\u001b[1;32m   1065\u001b[0m         \u001b[0;31m# ugly hack for GH #836\u001b[0m\u001b[0;34m\u001b[0m\u001b[0;34m\u001b[0m\u001b[0;34m\u001b[0m\u001b[0m\n\u001b[1;32m   1066\u001b[0m         \u001b[0;32mif\u001b[0m \u001b[0mself\u001b[0m\u001b[0;34m.\u001b[0m\u001b[0m_multi_take_opportunity\u001b[0m\u001b[0;34m(\u001b[0m\u001b[0mtup\u001b[0m\u001b[0;34m)\u001b[0m\u001b[0;34m:\u001b[0m\u001b[0;34m\u001b[0m\u001b[0;34m\u001b[0m\u001b[0m\n\u001b[0;32m-> 1067\u001b[0;31m             \u001b[0;32mreturn\u001b[0m \u001b[0mself\u001b[0m\u001b[0;34m.\u001b[0m\u001b[0m_multi_take\u001b[0m\u001b[0;34m(\u001b[0m\u001b[0mtup\u001b[0m\u001b[0;34m)\u001b[0m\u001b[0;34m\u001b[0m\u001b[0;34m\u001b[0m\u001b[0m\n\u001b[0m\u001b[1;32m   1068\u001b[0m \u001b[0;34m\u001b[0m\u001b[0m\n\u001b[1;32m   1069\u001b[0m         \u001b[0;32mreturn\u001b[0m \u001b[0mself\u001b[0m\u001b[0;34m.\u001b[0m\u001b[0m_getitem_tuple_same_dim\u001b[0m\u001b[0;34m(\u001b[0m\u001b[0mtup\u001b[0m\u001b[0;34m)\u001b[0m\u001b[0;34m\u001b[0m\u001b[0;34m\u001b[0m\u001b[0m\n",
      "\u001b[0;32m~/.local/lib/python3.8/site-packages/pandas/core/indexing.py\u001b[0m in \u001b[0;36m_multi_take\u001b[0;34m(self, tup)\u001b[0m\n\u001b[1;32m   1017\u001b[0m         \"\"\"\n\u001b[1;32m   1018\u001b[0m         \u001b[0;31m# GH 836\u001b[0m\u001b[0;34m\u001b[0m\u001b[0;34m\u001b[0m\u001b[0;34m\u001b[0m\u001b[0m\n\u001b[0;32m-> 1019\u001b[0;31m         d = {\n\u001b[0m\u001b[1;32m   1020\u001b[0m             \u001b[0maxis\u001b[0m\u001b[0;34m:\u001b[0m \u001b[0mself\u001b[0m\u001b[0;34m.\u001b[0m\u001b[0m_get_listlike_indexer\u001b[0m\u001b[0;34m(\u001b[0m\u001b[0mkey\u001b[0m\u001b[0;34m,\u001b[0m \u001b[0maxis\u001b[0m\u001b[0;34m)\u001b[0m\u001b[0;34m\u001b[0m\u001b[0;34m\u001b[0m\u001b[0m\n\u001b[1;32m   1021\u001b[0m             \u001b[0;32mfor\u001b[0m \u001b[0;34m(\u001b[0m\u001b[0mkey\u001b[0m\u001b[0;34m,\u001b[0m \u001b[0maxis\u001b[0m\u001b[0;34m)\u001b[0m \u001b[0;32min\u001b[0m \u001b[0mzip\u001b[0m\u001b[0;34m(\u001b[0m\u001b[0mtup\u001b[0m\u001b[0;34m,\u001b[0m \u001b[0mself\u001b[0m\u001b[0;34m.\u001b[0m\u001b[0mobj\u001b[0m\u001b[0;34m.\u001b[0m\u001b[0m_AXIS_ORDERS\u001b[0m\u001b[0;34m)\u001b[0m\u001b[0;34m\u001b[0m\u001b[0;34m\u001b[0m\u001b[0m\n",
      "\u001b[0;32m~/.local/lib/python3.8/site-packages/pandas/core/indexing.py\u001b[0m in \u001b[0;36m<dictcomp>\u001b[0;34m(.0)\u001b[0m\n\u001b[1;32m   1018\u001b[0m         \u001b[0;31m# GH 836\u001b[0m\u001b[0;34m\u001b[0m\u001b[0;34m\u001b[0m\u001b[0;34m\u001b[0m\u001b[0m\n\u001b[1;32m   1019\u001b[0m         d = {\n\u001b[0;32m-> 1020\u001b[0;31m             \u001b[0maxis\u001b[0m\u001b[0;34m:\u001b[0m \u001b[0mself\u001b[0m\u001b[0;34m.\u001b[0m\u001b[0m_get_listlike_indexer\u001b[0m\u001b[0;34m(\u001b[0m\u001b[0mkey\u001b[0m\u001b[0;34m,\u001b[0m \u001b[0maxis\u001b[0m\u001b[0;34m)\u001b[0m\u001b[0;34m\u001b[0m\u001b[0;34m\u001b[0m\u001b[0m\n\u001b[0m\u001b[1;32m   1021\u001b[0m             \u001b[0;32mfor\u001b[0m \u001b[0;34m(\u001b[0m\u001b[0mkey\u001b[0m\u001b[0;34m,\u001b[0m \u001b[0maxis\u001b[0m\u001b[0;34m)\u001b[0m \u001b[0;32min\u001b[0m \u001b[0mzip\u001b[0m\u001b[0;34m(\u001b[0m\u001b[0mtup\u001b[0m\u001b[0;34m,\u001b[0m \u001b[0mself\u001b[0m\u001b[0;34m.\u001b[0m\u001b[0mobj\u001b[0m\u001b[0;34m.\u001b[0m\u001b[0m_AXIS_ORDERS\u001b[0m\u001b[0;34m)\u001b[0m\u001b[0;34m\u001b[0m\u001b[0;34m\u001b[0m\u001b[0m\n\u001b[1;32m   1022\u001b[0m         }\n",
      "\u001b[0;32m~/.local/lib/python3.8/site-packages/pandas/core/indexing.py\u001b[0m in \u001b[0;36m_get_listlike_indexer\u001b[0;34m(self, key, axis, raise_missing)\u001b[0m\n\u001b[1;32m   1264\u001b[0m             \u001b[0mkeyarr\u001b[0m\u001b[0;34m,\u001b[0m \u001b[0mindexer\u001b[0m\u001b[0;34m,\u001b[0m \u001b[0mnew_indexer\u001b[0m \u001b[0;34m=\u001b[0m \u001b[0max\u001b[0m\u001b[0;34m.\u001b[0m\u001b[0m_reindex_non_unique\u001b[0m\u001b[0;34m(\u001b[0m\u001b[0mkeyarr\u001b[0m\u001b[0;34m)\u001b[0m\u001b[0;34m\u001b[0m\u001b[0;34m\u001b[0m\u001b[0m\n\u001b[1;32m   1265\u001b[0m \u001b[0;34m\u001b[0m\u001b[0m\n\u001b[0;32m-> 1266\u001b[0;31m         \u001b[0mself\u001b[0m\u001b[0;34m.\u001b[0m\u001b[0m_validate_read_indexer\u001b[0m\u001b[0;34m(\u001b[0m\u001b[0mkeyarr\u001b[0m\u001b[0;34m,\u001b[0m \u001b[0mindexer\u001b[0m\u001b[0;34m,\u001b[0m \u001b[0maxis\u001b[0m\u001b[0;34m,\u001b[0m \u001b[0mraise_missing\u001b[0m\u001b[0;34m=\u001b[0m\u001b[0mraise_missing\u001b[0m\u001b[0;34m)\u001b[0m\u001b[0;34m\u001b[0m\u001b[0;34m\u001b[0m\u001b[0m\n\u001b[0m\u001b[1;32m   1267\u001b[0m         \u001b[0;32mreturn\u001b[0m \u001b[0mkeyarr\u001b[0m\u001b[0;34m,\u001b[0m \u001b[0mindexer\u001b[0m\u001b[0;34m\u001b[0m\u001b[0;34m\u001b[0m\u001b[0m\n\u001b[1;32m   1268\u001b[0m \u001b[0;34m\u001b[0m\u001b[0m\n",
      "\u001b[0;32m~/.local/lib/python3.8/site-packages/pandas/core/indexing.py\u001b[0m in \u001b[0;36m_validate_read_indexer\u001b[0;34m(self, key, indexer, axis, raise_missing)\u001b[0m\n\u001b[1;32m   1301\u001b[0m         \u001b[0;31m# Count missing values:\u001b[0m\u001b[0;34m\u001b[0m\u001b[0;34m\u001b[0m\u001b[0;34m\u001b[0m\u001b[0m\n\u001b[1;32m   1302\u001b[0m         \u001b[0mmissing_mask\u001b[0m \u001b[0;34m=\u001b[0m \u001b[0mindexer\u001b[0m \u001b[0;34m<\u001b[0m \u001b[0;36m0\u001b[0m\u001b[0;34m\u001b[0m\u001b[0;34m\u001b[0m\u001b[0m\n\u001b[0;32m-> 1303\u001b[0;31m         \u001b[0mmissing\u001b[0m \u001b[0;34m=\u001b[0m \u001b[0;34m(\u001b[0m\u001b[0mmissing_mask\u001b[0m\u001b[0;34m)\u001b[0m\u001b[0;34m.\u001b[0m\u001b[0msum\u001b[0m\u001b[0;34m(\u001b[0m\u001b[0;34m)\u001b[0m\u001b[0;34m\u001b[0m\u001b[0;34m\u001b[0m\u001b[0m\n\u001b[0m\u001b[1;32m   1304\u001b[0m \u001b[0;34m\u001b[0m\u001b[0m\n\u001b[1;32m   1305\u001b[0m         \u001b[0;32mif\u001b[0m \u001b[0mmissing\u001b[0m\u001b[0;34m:\u001b[0m\u001b[0;34m\u001b[0m\u001b[0;34m\u001b[0m\u001b[0m\n",
      "\u001b[0;32m~/.local/lib/python3.8/site-packages/numpy/core/_methods.py\u001b[0m in \u001b[0;36m_sum\u001b[0;34m(a, axis, dtype, out, keepdims, initial, where)\u001b[0m\n\u001b[1;32m     45\u001b[0m def _sum(a, axis=None, dtype=None, out=None, keepdims=False,\n\u001b[1;32m     46\u001b[0m          initial=_NoValue, where=True):\n\u001b[0;32m---> 47\u001b[0;31m     \u001b[0;32mreturn\u001b[0m \u001b[0mumr_sum\u001b[0m\u001b[0;34m(\u001b[0m\u001b[0ma\u001b[0m\u001b[0;34m,\u001b[0m \u001b[0maxis\u001b[0m\u001b[0;34m,\u001b[0m \u001b[0mdtype\u001b[0m\u001b[0;34m,\u001b[0m \u001b[0mout\u001b[0m\u001b[0;34m,\u001b[0m \u001b[0mkeepdims\u001b[0m\u001b[0;34m,\u001b[0m \u001b[0minitial\u001b[0m\u001b[0;34m,\u001b[0m \u001b[0mwhere\u001b[0m\u001b[0;34m)\u001b[0m\u001b[0;34m\u001b[0m\u001b[0;34m\u001b[0m\u001b[0m\n\u001b[0m\u001b[1;32m     48\u001b[0m \u001b[0;34m\u001b[0m\u001b[0m\n\u001b[1;32m     49\u001b[0m def _prod(a, axis=None, dtype=None, out=None, keepdims=False,\n",
      "\u001b[0;31mKeyboardInterrupt\u001b[0m: "
     ]
    }
   ],
   "source": [
    "# training\n",
    "train(obj,train_dataset,valid_dataset,niter=10,n_iter_stop=20,batch_size=1,shuffle=True,num_workers=num_workers,pin_memory=pin_memory,resdir=None)"
   ]
  },
  {
   "cell_type": "code",
   "execution_count": null,
   "id": "0452a4b6",
   "metadata": {},
   "outputs": [],
   "source": [
    "obj.save_model(parent_dir,\"3a-krig\")"
   ]
  },
  {
   "cell_type": "markdown",
   "id": "ebfb8691",
   "metadata": {},
   "source": [
    "## Evaluation"
   ]
  },
  {
   "cell_type": "code",
   "execution_count": null,
   "id": "d4606a8c",
   "metadata": {},
   "outputs": [],
   "source": [
    "params['data']['Y']['path'] = os.path.join(parent_dir,\"session\",\"synth_1000_Y_eval_6s\")\n",
    "params['data']['Y']['VALUE'] = ['value']\n",
    "params['data']['Y']['KEY'] = ['x','y','rmse','variance']\n",
    "params['data']['Y']['nb_location'] = 6000 # 6x1000, 6 sources\n",
    "params['data']['Y']['nb_sampling'] = 100\n",
    "\n",
    "params['data']['X']['path'] = os.path.join(parent_dir,\"session\",\"synth_1000_X_eval_6s\")\n",
    "params['data']['X']['VALUE'] = ['ref']\n",
    "params['data']['X']['QUERY'] = ['x','y','rmse_ref','variance_ref']\n",
    "params['data']['X']['nb_location'] = 6000 # 6x1000, 6 sources\n",
    "params['data']['X']['nb_sampling'] = 100\n",
    "\n",
    "eval_dataset = KVyQVx(params['data'])"
   ]
  },
  {
   "cell_type": "code",
   "execution_count": null,
   "id": "9dcfc689",
   "metadata": {},
   "outputs": [],
   "source": [
    "criterion = R2()\n",
    "#criterion = torch.nn.MSELoss()\n",
    "obj.init_criterion(criterion)"
   ]
  },
  {
   "cell_type": "code",
   "execution_count": null,
   "id": "704516b2",
   "metadata": {},
   "outputs": [],
   "source": [
    "evaluation(obj,eval_dataset,batch_size=1,shuffle=True,num_workers=num_workers,pin_memory=pin_memory,resdir=None)"
   ]
  },
  {
   "cell_type": "code",
   "execution_count": null,
   "id": "597b58e9",
   "metadata": {},
   "outputs": [],
   "source": [
    "criterion = RMSE()\n",
    "obj.init_criterion(criterion)"
   ]
  },
  {
   "cell_type": "code",
   "execution_count": null,
   "id": "6dd089ab",
   "metadata": {},
   "outputs": [],
   "source": [
    "evaluation(obj,eval_dataset,batch_size=1,shuffle=True,num_workers=num_workers,pin_memory=pin_memory,resdir=None)"
   ]
  },
  {
   "cell_type": "code",
   "execution_count": null,
   "id": "0f4d4392",
   "metadata": {},
   "outputs": [],
   "source": [
    "criterion = variance()\n",
    "obj.init_criterion(criterion)"
   ]
  },
  {
   "cell_type": "code",
   "execution_count": null,
   "id": "594d309c",
   "metadata": {},
   "outputs": [],
   "source": [
    "evaluation(obj,eval_dataset,batch_size=1,shuffle=True,num_workers=num_workers,pin_memory=pin_memory,resdir=None)"
   ]
  },
  {
   "cell_type": "markdown",
   "id": "8eee2876",
   "metadata": {},
   "source": [
    "## QQplot"
   ]
  },
  {
   "cell_type": "code",
   "execution_count": null,
   "id": "17bf0a6e",
   "metadata": {},
   "outputs": [],
   "source": [
    "params['data']['Y']['path'] = os.path.join(parent_dir,\"session\",\"synth_1000_Y_eval_6s\")\n",
    "params['data']['Y']['VALUE'] = ['value']\n",
    "params['data']['Y']['KEY'] = ['x','y','rmse','variance']\n",
    "params['data']['Y']['nb_location'] = 6000 # 6x1000, 6 sources\n",
    "params['data']['Y']['nb_sampling'] = 100\n",
    "\n",
    "params['data']['X']['path'] = os.path.join(parent_dir,\"session\",\"synth_1000_X_eval_6s\")\n",
    "params['data']['X']['VALUE'] = ['ref']\n",
    "params['data']['X']['QUERY'] = ['x','y','rmse_ref','variance_ref']\n",
    "params['data']['X']['nb_location'] = 6000 # 6x1000, 6 sources\n",
    "params['data']['X']['nb_sampling'] = 100\n",
    "\n",
    "\n",
    "eval_dataset = KVyQVx(params['data'])"
   ]
  },
  {
   "cell_type": "code",
   "execution_count": null,
   "id": "06bff51b",
   "metadata": {},
   "outputs": [],
   "source": [
    "results = prediction_prime(obj,eval_dataset)"
   ]
  },
  {
   "cell_type": "code",
   "execution_count": null,
   "id": "6da78e1e",
   "metadata": {},
   "outputs": [],
   "source": [
    "pred_name = ['pred_' + v for v in eval_dataset.VALUE_X]\n",
    "\n",
    "fig, ax= plt.subplots(figsize=(14, 12))\n",
    "ax.scatter(results.loc[:,eval_dataset.VALUE_X],results.loc[:,pred_name], linewidth=2.0,c=\"black\")\n",
    "ax.axline((0, 0), slope=1., color='blue')\n",
    "ax.set_xlim(0, 2.5)\n",
    "ax.set_ylim(results.loc[:,pred_name].min().item()-0.5, results.loc[:,pred_name].max().item()+0.5)\n",
    "ax.set(xlabel='observations', ylabel='predictions')\n",
    "\n",
    "fig_filename = os.path.join(parent_dir,'fig','3a-qqplot.png')\n",
    "plt.savefig(fig_filename, dpi = 300)"
   ]
  },
  {
   "cell_type": "markdown",
   "id": "ea6651e5",
   "metadata": {},
   "source": [
    "## Wq"
   ]
  },
  {
   "cell_type": "code",
   "execution_count": null,
   "id": "612c3bc0",
   "metadata": {},
   "outputs": [],
   "source": [
    "W = obj.model.W.detach()\n",
    "W"
   ]
  },
  {
   "cell_type": "markdown",
   "id": "ecad265d",
   "metadata": {},
   "source": [
    "## ensemble, quantiles and p-value "
   ]
  },
  {
   "cell_type": "code",
   "execution_count": null,
   "id": "d156288b",
   "metadata": {},
   "outputs": [],
   "source": [
    "params['data']['Y']['path'] = os.path.join(parent_dir,\"session\",\"synth_1000_Y_eval_6s\")\n",
    "params['data']['Y']['VALUE'] = ['value']\n",
    "params['data']['Y']['KEY'] = ['x','y','rmse','variance']\n",
    "params['data']['Y']['nb_location'] = 6000 # 6x1000, 6 sources\n",
    "params['data']['Y']['nb_sampling'] = 100\n",
    "\n",
    "params['data']['X']['path'] = os.path.join(parent_dir,\"session\",\"synth_all_6400_6s\")\n",
    "params['data']['X']['VALUE'] = ['ref']\n",
    "params['data']['X']['QUERY'] = ['x','y','rmse_ref','variance_ref']\n",
    "params['data']['X']['nb_location'] = 6400\n",
    "params['data']['X']['nb_sampling'] = 100\n",
    "\n",
    "eval_dataset = KVyQVx(params['data'])"
   ]
  },
  {
   "cell_type": "code",
   "execution_count": null,
   "id": "1036d75d",
   "metadata": {},
   "outputs": [],
   "source": [
    "# !! might take some time\n",
    "ensemble = ensemble_prime(obj,eval_dataset,N=2)"
   ]
  },
  {
   "cell_type": "code",
   "execution_count": null,
   "id": "ad024c80",
   "metadata": {},
   "outputs": [],
   "source": [
    "ensemble.to_csv(os.path.join(parent_dir,'3a-ensemble.csv'))"
   ]
  },
  {
   "cell_type": "markdown",
   "id": "1f7921b0",
   "metadata": {},
   "source": [
    "### metrics"
   ]
  },
  {
   "cell_type": "code",
   "execution_count": null,
   "id": "7b9bad30",
   "metadata": {},
   "outputs": [],
   "source": [
    "obs = torch.tensor(ensemble[('sensor_hq', 'mean')].to_numpy())\n",
    "obs = torch.reshape(obs,(1,obs.shape[0],1))\n",
    "q0_5 = torch.tensor(ensemble[('pred_sensor_hq','q0_5')].to_numpy())\n",
    "q0_5 = torch.reshape(q0_5,(1,q0_5.shape[0],1))"
   ]
  },
  {
   "cell_type": "code",
   "execution_count": null,
   "id": "ee873779",
   "metadata": {},
   "outputs": [],
   "source": [
    "criterion = R2()\n",
    "criterion(obs,q0_5)"
   ]
  },
  {
   "cell_type": "code",
   "execution_count": null,
   "id": "d7f4e84e",
   "metadata": {},
   "outputs": [],
   "source": [
    "criterion = RMSE()\n",
    "criterion(obs,q0_5)"
   ]
  },
  {
   "cell_type": "code",
   "execution_count": null,
   "id": "f7c1cb92",
   "metadata": {},
   "outputs": [],
   "source": [
    "criterion = variance()\n",
    "criterion(obs,q0_5)"
   ]
  },
  {
   "cell_type": "markdown",
   "id": "46d743ba",
   "metadata": {},
   "source": [
    "### qqplot of the observation against the median of the ensemble at each location"
   ]
  },
  {
   "cell_type": "code",
   "execution_count": null,
   "id": "24d125a5",
   "metadata": {},
   "outputs": [],
   "source": [
    "fig, ax= plt.subplots(figsize=(14, 12))\n",
    "ax.scatter(ensemble[('sensor_hq', 'mean')],ensemble[('pred_sensor_hq','q0_5')], linewidth=2.0,c=\"black\")\n",
    "ax.axline((0, 0), slope=1., color='blue')\n",
    "ax.set_xlim(0, 2.5)\n",
    "ax.set_ylim(ensemble[('pred_sensor_hq','q0_5')].min().item()-0.5, ensemble[('pred_sensor_hq','q0_5')].max().item()+0.5)\n",
    "ax.set(xlabel='observations', ylabel='median-ensemble')\n",
    "\n",
    "fig_filename = os.path.join(parent_dir,'fig','3a-ensemble_q0_5_qqplot.png')\n",
    "plt.savefig(fig_filename, dpi = 300)"
   ]
  },
  {
   "cell_type": "markdown",
   "id": "5c948c9d",
   "metadata": {},
   "source": [
    "### p-qqplot of the p-value of the obsevration within its ensemble against an uniform distribution"
   ]
  },
  {
   "cell_type": "code",
   "execution_count": null,
   "id": "585a31b6",
   "metadata": {},
   "outputs": [],
   "source": [
    "ensemble = ensemble.sort_values(by='p_sensor_hq')\n",
    "ensemble[\"U\"] = np.linspace(0, 1, num=ensemble.shape[0])    "
   ]
  },
  {
   "cell_type": "code",
   "execution_count": null,
   "id": "08e1f5fa",
   "metadata": {},
   "outputs": [],
   "source": [
    "fig, ax= plt.subplots(figsize=(8, 8))\n",
    "ax.scatter(ensemble['U'],ensemble['p_sensor_hq'], linewidth=2.0,c=\"black\")\n",
    "ax.axline((0, 0), slope=1., color='blue')\n",
    "ax.set_xlim(0, 1)\n",
    "ax.set_ylim(0,1)\n",
    "ax.set(xlabel='U[0,1]', ylabel='p-value of observation')\n",
    "\n",
    "fig_filename = os.path.join(parent_dir,'fig','3a-p_qqplot.png')\n",
    "plt.savefig(fig_filename, dpi = 300)"
   ]
  },
  {
   "cell_type": "markdown",
   "id": "adcb7fe3",
   "metadata": {},
   "source": [
    "## Illustration of quantile on maps"
   ]
  },
  {
   "cell_type": "code",
   "execution_count": null,
   "id": "87c79bc6",
   "metadata": {},
   "outputs": [],
   "source": [
    "params['data']['Y']['path'] = os.path.join(parent_dir,\"session\",\"synth_1000_Y_eval_6s\")\n",
    "params['data']['Y']['VALUE'] = ['value']\n",
    "params['data']['Y']['KEY'] = ['x','y','rmse','variance']\n",
    "params['data']['Y']['nb_location'] = 6000 # 6x1000, 6 sources\n",
    "params['data']['Y']['nb_sampling'] = 100\n",
    "\n",
    "params['data']['X']['path'] = os.path.join(parent_dir,\"session\",\"synth_all_6400_6s\")\n",
    "params['data']['X']['VALUE'] = ['ref']\n",
    "params['data']['X']['QUERY'] = ['x','y','rmse_ref','variance_ref']\n",
    "params['data']['X']['nb_location'] = 6400\n",
    "params['data']['X']['nb_sampling'] = 100\n",
    "\n",
    "eval_dataset = KVyQVx(params['data'])"
   ]
  },
  {
   "cell_type": "code",
   "execution_count": null,
   "id": "b5f558a6",
   "metadata": {},
   "outputs": [],
   "source": [
    "# !! might take some time\n",
    "ensemble = ensemble_prime(obj,eval_dataset,N=2)"
   ]
  },
  {
   "cell_type": "code",
   "execution_count": null,
   "id": "ffac4481",
   "metadata": {},
   "outputs": [],
   "source": [
    "vmin = np.array([ensemble[('sensor_hq', 'mean')].min(),\n",
    "                 ensemble[('pred_sensor_hq','q0_5')].min(),\n",
    "                 ensemble[('pred_sensor_hq','q0_05')].min(),\n",
    "                 ensemble[('pred_sensor_hq','q0_95')].min()]).min()\n",
    "\n",
    "vmax = np.array([ensemble[('sensor_hq', 'mean')].max(),\n",
    "                 ensemble[('pred_sensor_hq','q0_5')].max(),\n",
    "                 ensemble[('pred_sensor_hq','q0_05')].max(),\n",
    "                 ensemble[('pred_sensor_hq','q0_95')].max()]).max()\n",
    "\n",
    "\n",
    "fig, (ax1, ax2,ax3,ax4) = plt.subplots(4,figsize=(14, 12))\n",
    "cs = ax1.scatter(x=ensemble[\"x\"], y=ensemble[\"y\"], c=ensemble[('sensor_hq', 'mean')],vmin=vmin, vmax=vmax)\n",
    "cs = ax2.scatter(x=ensemble[\"x\"], y=ensemble[\"y\"], c=ensemble[('pred_sensor_hq', 'q0_05')],vmin=vmin, vmax=vmax)\n",
    "cs = ax3.scatter(x=ensemble[\"x\"], y=ensemble[\"y\"], c=ensemble[('pred_sensor_hq', 'q0_5')],vmin=vmin, vmax=vmax)\n",
    "cs = ax4.scatter(x=ensemble[\"x\"], y=ensemble[\"y\"], c=ensemble[('pred_sensor_hq', 'q0_95')],vmin=vmin, vmax=vmax)\n",
    "\n",
    "ax1.set(ylabel='Y')\n",
    "ax2.set(ylabel='Y')\n",
    "ax3.set(ylabel='Y')\n",
    "ax4.set(xlabel='X', ylabel='Y')\n",
    "\n",
    "fig.colorbar(cs, ax=[ax1,ax2,ax3,ax4])\n",
    "\n",
    "fig_filename = os.path.join(parent_dir,'fig','3a-illustration_map_quantile.png')\n",
    "plt.savefig(fig_filename, dpi = 300)\n"
   ]
  },
  {
   "cell_type": "code",
   "execution_count": null,
   "id": "0029265f",
   "metadata": {},
   "outputs": [],
   "source": []
  }
 ],
 "metadata": {
  "kernelspec": {
   "display_name": "Python 3",
   "language": "python",
   "name": "python3"
  },
  "language_info": {
   "codemirror_mode": {
    "name": "ipython",
    "version": 3
   },
   "file_extension": ".py",
   "mimetype": "text/x-python",
   "name": "python",
   "nbconvert_exporter": "python",
   "pygments_lexer": "ipython3",
   "version": "3.8.10"
  }
 },
 "nbformat": 4,
 "nbformat_minor": 5
}
