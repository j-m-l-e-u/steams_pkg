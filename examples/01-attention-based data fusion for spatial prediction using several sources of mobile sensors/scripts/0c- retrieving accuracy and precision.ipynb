{
 "cells": [
  {
   "cell_type": "markdown",
   "id": "dd0ca2b6",
   "metadata": {},
   "source": [
    "# Producing dataset of 4 & 6 sources of sensors"
   ]
  },
  {
   "cell_type": "code",
   "execution_count": 1,
   "id": "4ec9f074",
   "metadata": {},
   "outputs": [
    {
     "name": "stderr",
     "output_type": "stream",
     "text": [
      "/home/jean-marie/.local/lib/python3.10/site-packages/tqdm/auto.py:21: TqdmWarning: IProgress not found. Please update jupyter and ipywidgets. See https://ipywidgets.readthedocs.io/en/stable/user_install.html\n",
      "  from .autonotebook import tqdm as notebook_tqdm\n"
     ]
    }
   ],
   "source": [
    "import os\n",
    "import numpy as np\n",
    "import pandas as pd\n",
    "import torch\n",
    "import math\n",
    "import random\n",
    "import matplotlib.pyplot as plt\n",
    "from matplotlib.gridspec import GridSpec"
   ]
  },
  {
   "cell_type": "code",
   "execution_count": 2,
   "id": "7ecd3920",
   "metadata": {},
   "outputs": [],
   "source": [
    "parent_dir = os.path.abspath(os.path.join(os.path.abspath(os.getcwd()), os.pardir))"
   ]
  },
  {
   "cell_type": "markdown",
   "id": "b48218f7",
   "metadata": {},
   "source": [
    "## Retrieving accuracy and precision from the network with colocation "
   ]
  },
  {
   "cell_type": "code",
   "execution_count": 3,
   "id": "6e7f4442",
   "metadata": {},
   "outputs": [],
   "source": [
    "colocation_xytv = pd.read_csv(os.path.join(os.path.join(parent_dir,'session','synth_'+str(1000)+'_colocation','tab'),'dataset.csv'))"
   ]
  },
  {
   "cell_type": "code",
   "execution_count": 4,
   "id": "becb558b",
   "metadata": {},
   "outputs": [
    {
     "data": {
      "text/html": [
       "<div>\n",
       "<style scoped>\n",
       "    .dataframe tbody tr th:only-of-type {\n",
       "        vertical-align: middle;\n",
       "    }\n",
       "\n",
       "    .dataframe tbody tr th {\n",
       "        vertical-align: top;\n",
       "    }\n",
       "\n",
       "    .dataframe thead th {\n",
       "        text-align: right;\n",
       "    }\n",
       "</style>\n",
       "<table border=\"1\" class=\"dataframe\">\n",
       "  <thead>\n",
       "    <tr style=\"text-align: right;\">\n",
       "      <th></th>\n",
       "      <th>x</th>\n",
       "      <th>y</th>\n",
       "      <th>truth</th>\n",
       "      <th>sensor_hq</th>\n",
       "      <th>sensor_mq</th>\n",
       "      <th>sensor_lq</th>\n",
       "      <th>agg_truth</th>\n",
       "      <th>pixel_hq</th>\n",
       "      <th>pixel_mq</th>\n",
       "      <th>pixel_lq</th>\n",
       "    </tr>\n",
       "  </thead>\n",
       "  <tbody>\n",
       "    <tr>\n",
       "      <th>0</th>\n",
       "      <td>0.465432</td>\n",
       "      <td>0.892691</td>\n",
       "      <td>1.343322</td>\n",
       "      <td>1.352247</td>\n",
       "      <td>1.302355</td>\n",
       "      <td>2.043883</td>\n",
       "      <td>1.243962</td>\n",
       "      <td>1.329613</td>\n",
       "      <td>1.319657</td>\n",
       "      <td>0.697116</td>\n",
       "    </tr>\n",
       "    <tr>\n",
       "      <th>1</th>\n",
       "      <td>0.165826</td>\n",
       "      <td>0.810097</td>\n",
       "      <td>1.118653</td>\n",
       "      <td>1.138284</td>\n",
       "      <td>0.859120</td>\n",
       "      <td>0.450859</td>\n",
       "      <td>1.141355</td>\n",
       "      <td>1.185423</td>\n",
       "      <td>1.271540</td>\n",
       "      <td>1.520892</td>\n",
       "    </tr>\n",
       "    <tr>\n",
       "      <th>2</th>\n",
       "      <td>0.056733</td>\n",
       "      <td>0.830376</td>\n",
       "      <td>1.644142</td>\n",
       "      <td>1.615263</td>\n",
       "      <td>1.856093</td>\n",
       "      <td>1.652803</td>\n",
       "      <td>1.595883</td>\n",
       "      <td>1.627686</td>\n",
       "      <td>1.739910</td>\n",
       "      <td>2.081171</td>\n",
       "    </tr>\n",
       "    <tr>\n",
       "      <th>3</th>\n",
       "      <td>0.722536</td>\n",
       "      <td>0.529950</td>\n",
       "      <td>0.064479</td>\n",
       "      <td>0.093942</td>\n",
       "      <td>0.103122</td>\n",
       "      <td>0.149790</td>\n",
       "      <td>0.077085</td>\n",
       "      <td>0.130224</td>\n",
       "      <td>0.106049</td>\n",
       "      <td>0.054240</td>\n",
       "    </tr>\n",
       "    <tr>\n",
       "      <th>4</th>\n",
       "      <td>0.564269</td>\n",
       "      <td>0.793415</td>\n",
       "      <td>1.773022</td>\n",
       "      <td>1.786646</td>\n",
       "      <td>1.721548</td>\n",
       "      <td>1.418837</td>\n",
       "      <td>1.804475</td>\n",
       "      <td>1.812188</td>\n",
       "      <td>1.709401</td>\n",
       "      <td>1.418179</td>\n",
       "    </tr>\n",
       "    <tr>\n",
       "      <th>...</th>\n",
       "      <td>...</td>\n",
       "      <td>...</td>\n",
       "      <td>...</td>\n",
       "      <td>...</td>\n",
       "      <td>...</td>\n",
       "      <td>...</td>\n",
       "      <td>...</td>\n",
       "      <td>...</td>\n",
       "      <td>...</td>\n",
       "      <td>...</td>\n",
       "    </tr>\n",
       "    <tr>\n",
       "      <th>995</th>\n",
       "      <td>0.335858</td>\n",
       "      <td>0.430754</td>\n",
       "      <td>0.441513</td>\n",
       "      <td>0.426325</td>\n",
       "      <td>0.450427</td>\n",
       "      <td>0.505225</td>\n",
       "      <td>0.580311</td>\n",
       "      <td>0.613375</td>\n",
       "      <td>0.657225</td>\n",
       "      <td>0.839779</td>\n",
       "    </tr>\n",
       "    <tr>\n",
       "      <th>996</th>\n",
       "      <td>0.892133</td>\n",
       "      <td>0.913745</td>\n",
       "      <td>0.872882</td>\n",
       "      <td>0.876233</td>\n",
       "      <td>0.745825</td>\n",
       "      <td>0.948859</td>\n",
       "      <td>0.988130</td>\n",
       "      <td>1.043117</td>\n",
       "      <td>0.910423</td>\n",
       "      <td>0.783324</td>\n",
       "    </tr>\n",
       "    <tr>\n",
       "      <th>997</th>\n",
       "      <td>0.970323</td>\n",
       "      <td>0.782899</td>\n",
       "      <td>1.923507</td>\n",
       "      <td>1.878314</td>\n",
       "      <td>2.052697</td>\n",
       "      <td>1.791483</td>\n",
       "      <td>1.808084</td>\n",
       "      <td>1.837442</td>\n",
       "      <td>2.168936</td>\n",
       "      <td>1.968636</td>\n",
       "    </tr>\n",
       "    <tr>\n",
       "      <th>998</th>\n",
       "      <td>0.041494</td>\n",
       "      <td>0.697756</td>\n",
       "      <td>1.829618</td>\n",
       "      <td>1.765584</td>\n",
       "      <td>2.016011</td>\n",
       "      <td>1.614518</td>\n",
       "      <td>1.803214</td>\n",
       "      <td>1.861870</td>\n",
       "      <td>1.846983</td>\n",
       "      <td>2.969815</td>\n",
       "    </tr>\n",
       "    <tr>\n",
       "      <th>999</th>\n",
       "      <td>0.278922</td>\n",
       "      <td>0.253387</td>\n",
       "      <td>1.032209</td>\n",
       "      <td>1.050840</td>\n",
       "      <td>1.187255</td>\n",
       "      <td>1.730817</td>\n",
       "      <td>1.026590</td>\n",
       "      <td>1.062012</td>\n",
       "      <td>0.908266</td>\n",
       "      <td>0.780510</td>\n",
       "    </tr>\n",
       "  </tbody>\n",
       "</table>\n",
       "<p>1000 rows × 10 columns</p>\n",
       "</div>"
      ],
      "text/plain": [
       "            x         y     truth  sensor_hq  sensor_mq  sensor_lq  agg_truth  \\\n",
       "0    0.465432  0.892691  1.343322   1.352247   1.302355   2.043883   1.243962   \n",
       "1    0.165826  0.810097  1.118653   1.138284   0.859120   0.450859   1.141355   \n",
       "2    0.056733  0.830376  1.644142   1.615263   1.856093   1.652803   1.595883   \n",
       "3    0.722536  0.529950  0.064479   0.093942   0.103122   0.149790   0.077085   \n",
       "4    0.564269  0.793415  1.773022   1.786646   1.721548   1.418837   1.804475   \n",
       "..        ...       ...       ...        ...        ...        ...        ...   \n",
       "995  0.335858  0.430754  0.441513   0.426325   0.450427   0.505225   0.580311   \n",
       "996  0.892133  0.913745  0.872882   0.876233   0.745825   0.948859   0.988130   \n",
       "997  0.970323  0.782899  1.923507   1.878314   2.052697   1.791483   1.808084   \n",
       "998  0.041494  0.697756  1.829618   1.765584   2.016011   1.614518   1.803214   \n",
       "999  0.278922  0.253387  1.032209   1.050840   1.187255   1.730817   1.026590   \n",
       "\n",
       "     pixel_hq  pixel_mq  pixel_lq  \n",
       "0    1.329613  1.319657  0.697116  \n",
       "1    1.185423  1.271540  1.520892  \n",
       "2    1.627686  1.739910  2.081171  \n",
       "3    0.130224  0.106049  0.054240  \n",
       "4    1.812188  1.709401  1.418179  \n",
       "..        ...       ...       ...  \n",
       "995  0.613375  0.657225  0.839779  \n",
       "996  1.043117  0.910423  0.783324  \n",
       "997  1.837442  2.168936  1.968636  \n",
       "998  1.861870  1.846983  2.969815  \n",
       "999  1.062012  0.908266  0.780510  \n",
       "\n",
       "[1000 rows x 10 columns]"
      ]
     },
     "execution_count": 4,
     "metadata": {},
     "output_type": "execute_result"
    }
   ],
   "source": [
    "colocation_xytv"
   ]
  },
  {
   "cell_type": "markdown",
   "id": "ca00bcb4",
   "metadata": {},
   "source": [
    "## Accuracy and precision against high-quality sensors"
   ]
  },
  {
   "cell_type": "code",
   "execution_count": 5,
   "id": "d968f8d1",
   "metadata": {},
   "outputs": [],
   "source": [
    "def rmse(pred,target):\n",
    "    return np.sqrt(np.mean((pred - target)**2))\n",
    "def bias(pred,target):\n",
    "    return np.mean(pred - target)\n",
    "def variance(pred,target):\n",
    "    b = bias(pred,target)\n",
    "    return np.mean(np.abs(pred - target - b))**2"
   ]
  },
  {
   "cell_type": "code",
   "execution_count": 6,
   "id": "a2dbfdea",
   "metadata": {},
   "outputs": [],
   "source": [
    "rmse_sensors_hq = rmse(colocation_xytv.loc[:,'sensor_hq'],colocation_xytv.loc[:,'sensor_hq'])"
   ]
  },
  {
   "cell_type": "code",
   "execution_count": 7,
   "id": "cf8f0db3",
   "metadata": {},
   "outputs": [],
   "source": [
    "variance_sensors_hq = variance(colocation_xytv.loc[:,'sensor_hq'],colocation_xytv.loc[:,'sensor_hq'])"
   ]
  },
  {
   "cell_type": "code",
   "execution_count": 8,
   "id": "2fcd06bd",
   "metadata": {},
   "outputs": [],
   "source": [
    "rmse_sensors_mq = rmse(colocation_xytv.loc[:,'sensor_mq'],colocation_xytv.loc[:,'sensor_hq'])"
   ]
  },
  {
   "cell_type": "code",
   "execution_count": 9,
   "id": "a72d60fa",
   "metadata": {},
   "outputs": [],
   "source": [
    "variance_sensors_mq = variance(colocation_xytv.loc[:,'sensor_mq'],colocation_xytv.loc[:,'sensor_hq'])"
   ]
  },
  {
   "cell_type": "code",
   "execution_count": 10,
   "id": "3a771722",
   "metadata": {},
   "outputs": [],
   "source": [
    "rmse_sensors_lq = rmse(colocation_xytv.loc[:,'sensor_lq'],colocation_xytv.loc[:,'sensor_hq'])"
   ]
  },
  {
   "cell_type": "code",
   "execution_count": 11,
   "id": "65ba8cda",
   "metadata": {},
   "outputs": [],
   "source": [
    "variance_sensors_lq = variance(colocation_xytv.loc[:,'sensor_lq'],colocation_xytv.loc[:,'sensor_hq'])"
   ]
  },
  {
   "cell_type": "code",
   "execution_count": 12,
   "id": "a8790a75",
   "metadata": {},
   "outputs": [],
   "source": [
    "rmse_pixels_hq = rmse(colocation_xytv.loc[:,'pixel_hq'],colocation_xytv.loc[:,'sensor_hq'])"
   ]
  },
  {
   "cell_type": "code",
   "execution_count": 13,
   "id": "cb7b4a99",
   "metadata": {},
   "outputs": [],
   "source": [
    "variance_pixels_hq = variance(colocation_xytv.loc[:,'pixel_hq'],colocation_xytv.loc[:,'sensor_hq'])"
   ]
  },
  {
   "cell_type": "code",
   "execution_count": 14,
   "id": "67daa085",
   "metadata": {},
   "outputs": [],
   "source": [
    "rmse_pixels_mq = rmse(colocation_xytv.loc[:,'pixel_mq'],colocation_xytv.loc[:,'sensor_mq'])"
   ]
  },
  {
   "cell_type": "code",
   "execution_count": 15,
   "id": "18801334",
   "metadata": {},
   "outputs": [],
   "source": [
    "variance_pixels_mq = variance(colocation_xytv.loc[:,'pixel_mq'],colocation_xytv.loc[:,'sensor_mq'])"
   ]
  },
  {
   "cell_type": "code",
   "execution_count": 16,
   "id": "a8cdafe9",
   "metadata": {},
   "outputs": [],
   "source": [
    "rmse_pixels_lq = rmse(colocation_xytv.loc[:,'pixel_lq'],colocation_xytv.loc[:,'sensor_hq'])"
   ]
  },
  {
   "cell_type": "code",
   "execution_count": 17,
   "id": "728b1b30",
   "metadata": {},
   "outputs": [],
   "source": [
    "variance_pixels_lq = variance(colocation_xytv.loc[:,'pixel_lq'],colocation_xytv.loc[:,'sensor_hq'])"
   ]
  },
  {
   "cell_type": "code",
   "execution_count": 18,
   "id": "72c8d5d5",
   "metadata": {},
   "outputs": [],
   "source": [
    "ap = pd.DataFrame(data={'RMSE': [rmse_sensors_hq ,rmse_sensors_mq ,rmse_sensors_lq ,rmse_pixels_hq ,rmse_pixels_mq,rmse_pixels_lq],\n",
    "                        'variance': [variance_sensors_hq,variance_sensors_mq,variance_sensors_lq,variance_pixels_hq,variance_pixels_mq,variance_pixels_lq]})"
   ]
  },
  {
   "cell_type": "code",
   "execution_count": 19,
   "id": "724ecc9e",
   "metadata": {},
   "outputs": [],
   "source": [
    "s = pd.Series(['sensor_hq','sensor_mq','sensor_lq','pixel_hq','pixel_mq','pixel_lq'])"
   ]
  },
  {
   "cell_type": "code",
   "execution_count": 20,
   "id": "cc52e7d6",
   "metadata": {},
   "outputs": [],
   "source": [
    "ap = ap.set_index([s])"
   ]
  },
  {
   "cell_type": "code",
   "execution_count": 21,
   "id": "61ad1188",
   "metadata": {},
   "outputs": [
    {
     "data": {
      "text/html": [
       "<div>\n",
       "<style scoped>\n",
       "    .dataframe tbody tr th:only-of-type {\n",
       "        vertical-align: middle;\n",
       "    }\n",
       "\n",
       "    .dataframe tbody tr th {\n",
       "        vertical-align: top;\n",
       "    }\n",
       "\n",
       "    .dataframe thead th {\n",
       "        text-align: right;\n",
       "    }\n",
       "</style>\n",
       "<table border=\"1\" class=\"dataframe\">\n",
       "  <thead>\n",
       "    <tr style=\"text-align: right;\">\n",
       "      <th></th>\n",
       "      <th>RMSE</th>\n",
       "      <th>variance</th>\n",
       "    </tr>\n",
       "  </thead>\n",
       "  <tbody>\n",
       "    <tr>\n",
       "      <th>sensor_hq</th>\n",
       "      <td>0.000000</td>\n",
       "      <td>0.000000</td>\n",
       "    </tr>\n",
       "    <tr>\n",
       "      <th>sensor_mq</th>\n",
       "      <td>0.123151</td>\n",
       "      <td>0.007994</td>\n",
       "    </tr>\n",
       "    <tr>\n",
       "      <th>sensor_lq</th>\n",
       "      <td>0.329484</td>\n",
       "      <td>0.055298</td>\n",
       "    </tr>\n",
       "    <tr>\n",
       "      <th>pixel_hq</th>\n",
       "      <td>0.083938</td>\n",
       "      <td>0.003582</td>\n",
       "    </tr>\n",
       "    <tr>\n",
       "      <th>pixel_mq</th>\n",
       "      <td>0.178597</td>\n",
       "      <td>0.017255</td>\n",
       "    </tr>\n",
       "    <tr>\n",
       "      <th>pixel_lq</th>\n",
       "      <td>0.343726</td>\n",
       "      <td>0.062667</td>\n",
       "    </tr>\n",
       "  </tbody>\n",
       "</table>\n",
       "</div>"
      ],
      "text/plain": [
       "               RMSE  variance\n",
       "sensor_hq  0.000000  0.000000\n",
       "sensor_mq  0.123151  0.007994\n",
       "sensor_lq  0.329484  0.055298\n",
       "pixel_hq   0.083938  0.003582\n",
       "pixel_mq   0.178597  0.017255\n",
       "pixel_lq   0.343726  0.062667"
      ]
     },
     "execution_count": 21,
     "metadata": {},
     "output_type": "execute_result"
    }
   ],
   "source": [
    "ap"
   ]
  },
  {
   "cell_type": "markdown",
   "id": "94fa4e2f",
   "metadata": {},
   "source": [
    "## Producing dataset of 4 sources of sensors  "
   ]
  },
  {
   "cell_type": "code",
   "execution_count": 22,
   "id": "618c40b9",
   "metadata": {},
   "outputs": [],
   "source": [
    "def produce_4sources(all_xyv,key,ap,name,parent_dir):\n",
    "    \n",
    "    all_xyv.loc[:,\"ref\"] = all_xyv.loc[:,\"sensor_hq\"]\n",
    "    all_xyv.loc[:,\"rmse_ref\"] = ap.loc['sensor_hq','RMSE']\n",
    "    all_xyv.loc[:,\"variance_ref\"] = ap.loc['sensor_hq','variance']\n",
    "    \n",
    "    melted = all_xyv.melt(id_vars=[\"x\",\"y\",\"ref\",\"rmse_ref\",\"variance_ref\"],value_vars=key,ignore_index=True)\n",
    "    melted.loc[melted[\"variable\"]==\"sensor_hq\", \"rmse\"] = ap.loc['sensor_hq','RMSE']\n",
    "    melted.loc[melted[\"variable\"]==\"sensor_lq\", \"rmse\"] = ap.loc['sensor_lq','RMSE']\n",
    "    melted.loc[melted[\"variable\"]==\"pixel_hq\", \"rmse\"] = ap.loc['pixel_hq','RMSE']\n",
    "    melted.loc[melted[\"variable\"]==\"pixel_lq\", \"rmse\"] = ap.loc['pixel_lq','RMSE']\n",
    "    \n",
    "    melted.loc[melted[\"variable\"]==\"sensor_hq\", \"variance\"] = ap.loc['sensor_hq','variance']\n",
    "    melted.loc[melted[\"variable\"]==\"sensor_lq\", \"variance\"] = ap.loc['sensor_lq','variance']\n",
    "    melted.loc[melted[\"variable\"]==\"pixel_hq\", \"variance\"] = ap.loc['pixel_hq','variance']\n",
    "    melted.loc[melted[\"variable\"]==\"pixel_lq\", \"variance\"] = ap.loc['pixel_lq','variance']\n",
    "    \n",
    "    newpath = os.path.join(parent_dir,'session',name+'_4s','tab')\n",
    "    if not os.path.exists(newpath):\n",
    "        os.makedirs(newpath)\n",
    "    f = os.path.join(newpath,'dataset.csv')\n",
    "    melted.to_csv(f,index=False)"
   ]
  },
  {
   "cell_type": "code",
   "execution_count": 23,
   "id": "8f23e1f2",
   "metadata": {},
   "outputs": [],
   "source": [
    "def produce_set_4sources(nb_sampling,key,ap,parent_dir):\n",
    "    \n",
    "    all_xyv = pd.read_csv(os.path.join(os.path.join(parent_dir,'session','synth_'+str(nb_sampling)+'_X_train','tab'),'dataset.csv'))\n",
    "    produce_4sources(all_xyv,key,ap,'synth_'+str(nb_sampling)+'_X_train',parent_dir)\n",
    "    \n",
    "    all_xyv = pd.read_csv(os.path.join(os.path.join(parent_dir,'session','synth_'+str(nb_sampling)+'_Y_train','tab'),'dataset.csv'))\n",
    "    produce_4sources(all_xyv,key,ap,'synth_'+str(nb_sampling)+'_Y_train',parent_dir)\n",
    "    \n",
    "    all_xyv = pd.read_csv(os.path.join(os.path.join(parent_dir,'session','synth_'+str(nb_sampling)+'_X_valid','tab'),'dataset.csv'))\n",
    "    produce_4sources(all_xyv,key,ap,'synth_'+str(nb_sampling)+'_X_valid',parent_dir)\n",
    "    \n",
    "    all_xyv = pd.read_csv(os.path.join(os.path.join(parent_dir,'session','synth_'+str(nb_sampling)+'_Y_valid','tab'),'dataset.csv'))\n",
    "    produce_4sources(all_xyv,key,ap,'synth_'+str(nb_sampling)+'_Y_valid',parent_dir)\n",
    "    \n",
    "    all_xyv = pd.read_csv(os.path.join(os.path.join(parent_dir,'session','synth_'+str(nb_sampling)+'_X_eval','tab'),'dataset.csv'))\n",
    "    produce_4sources(all_xyv,key,ap,'synth_'+str(nb_sampling)+'_X_eval',parent_dir)\n",
    "    \n",
    "    all_xyv = pd.read_csv(os.path.join(os.path.join(parent_dir,'session','synth_'+str(nb_sampling)+'_Y_eval','tab'),'dataset.csv'))\n",
    "    produce_4sources(all_xyv,key,ap,'synth_'+str(nb_sampling)+'_Y_eval',parent_dir)\n",
    "    "
   ]
  },
  {
   "cell_type": "code",
   "execution_count": 24,
   "id": "9dc990fb",
   "metadata": {},
   "outputs": [],
   "source": [
    "key = ['sensor_hq','sensor_lq','pixel_hq','pixel_lq']\n",
    "produce_set_4sources(1000,key,ap,parent_dir)"
   ]
  },
  {
   "cell_type": "code",
   "execution_count": 25,
   "id": "47b8ef93",
   "metadata": {},
   "outputs": [],
   "source": [
    "all_xyv = pd.read_csv(os.path.join(os.path.join(parent_dir,'session','synth_all_'+str(6400),'tab'),'dataset.csv'))\n",
    "produce_4sources(all_xyv,key,ap,'synth_all_'+str(6400),parent_dir)"
   ]
  },
  {
   "cell_type": "markdown",
   "id": "03790045",
   "metadata": {},
   "source": [
    "## Producing dataset of 6 sources of sensors  "
   ]
  },
  {
   "cell_type": "code",
   "execution_count": 26,
   "id": "c30faf31",
   "metadata": {},
   "outputs": [],
   "source": [
    "def produce_6sources(all_xyv,key,ap,name,parent_dir):\n",
    "    \n",
    "    all_xyv.loc[:,\"ref\"] = all_xyv.loc[:,\"sensor_hq\"]\n",
    "    all_xyv.loc[:,\"rmse_ref\"] = ap.loc['sensor_hq','RMSE']\n",
    "    all_xyv.loc[:,\"variance_ref\"] = ap.loc['sensor_hq','variance']\n",
    "    \n",
    "    melted = all_xyv.melt(id_vars=[\"x\",\"y\",\"ref\",\"rmse_ref\",\"variance_ref\"],value_vars=key,ignore_index=True)\n",
    "    melted.loc[melted[\"variable\"]==\"sensor_hq\", \"rmse\"] = ap.loc['sensor_hq','RMSE']\n",
    "    melted.loc[melted[\"variable\"]==\"sensor_mq\", \"rmse\"] = ap.loc['sensor_mq','RMSE']\n",
    "    melted.loc[melted[\"variable\"]==\"sensor_lq\", \"rmse\"] = ap.loc['sensor_lq','RMSE']\n",
    "    melted.loc[melted[\"variable\"]==\"pixel_hq\", \"rmse\"] = ap.loc['pixel_hq','RMSE']\n",
    "    melted.loc[melted[\"variable\"]==\"pixel_mq\", \"rmse\"] = ap.loc['pixel_mq','RMSE']\n",
    "    melted.loc[melted[\"variable\"]==\"pixel_lq\", \"rmse\"] = ap.loc['pixel_lq','RMSE']\n",
    "    \n",
    "    melted.loc[melted[\"variable\"]==\"sensor_hq\", \"variance\"] = ap.loc['sensor_hq','variance']\n",
    "    melted.loc[melted[\"variable\"]==\"sensor_mq\", \"variance\"] = ap.loc['sensor_mq','variance']\n",
    "    melted.loc[melted[\"variable\"]==\"sensor_lq\", \"variance\"] = ap.loc['sensor_lq','variance']\n",
    "    melted.loc[melted[\"variable\"]==\"pixel_hq\", \"variance\"] = ap.loc['pixel_hq','variance']\n",
    "    melted.loc[melted[\"variable\"]==\"pixel_mq\", \"variance\"] = ap.loc['pixel_mq','variance']\n",
    "    melted.loc[melted[\"variable\"]==\"pixel_lq\", \"variance\"] = ap.loc['pixel_lq','variance']\n",
    "    \n",
    "    newpath = os.path.join(parent_dir,'session',name+'_6s','tab')\n",
    "    if not os.path.exists(newpath):\n",
    "        os.makedirs(newpath)\n",
    "    f = os.path.join(newpath,'dataset.csv')\n",
    "    melted.to_csv(f,index=False)"
   ]
  },
  {
   "cell_type": "code",
   "execution_count": 27,
   "id": "12afba60",
   "metadata": {},
   "outputs": [],
   "source": [
    "def produce_set_6sources(nb_sampling,key,ap,parent_dir):\n",
    "    \n",
    "    all_xyv = pd.read_csv(os.path.join(os.path.join(parent_dir,'session','synth_'+str(nb_sampling)+'_X_train','tab'),'dataset.csv'))\n",
    "    produce_6sources(all_xyv,key,ap,'synth_'+str(nb_sampling)+'_X_train',parent_dir)\n",
    "    \n",
    "    all_xyv = pd.read_csv(os.path.join(os.path.join(parent_dir,'session','synth_'+str(nb_sampling)+'_Y_train','tab'),'dataset.csv'))\n",
    "    produce_6sources(all_xyv,key,ap,'synth_'+str(nb_sampling)+'_Y_train',parent_dir)\n",
    "    \n",
    "    all_xyv = pd.read_csv(os.path.join(os.path.join(parent_dir,'session','synth_'+str(nb_sampling)+'_X_valid','tab'),'dataset.csv'))\n",
    "    produce_6sources(all_xyv,key,ap,'synth_'+str(nb_sampling)+'_X_valid',parent_dir)\n",
    "    \n",
    "    all_xyv = pd.read_csv(os.path.join(os.path.join(parent_dir,'session','synth_'+str(nb_sampling)+'_Y_valid','tab'),'dataset.csv'))\n",
    "    produce_6sources(all_xyv,key,ap,'synth_'+str(nb_sampling)+'_Y_valid',parent_dir)\n",
    "    \n",
    "    all_xyv = pd.read_csv(os.path.join(os.path.join(parent_dir,'session','synth_'+str(nb_sampling)+'_X_eval','tab'),'dataset.csv'))\n",
    "    produce_6sources(all_xyv,key,ap,'synth_'+str(nb_sampling)+'_X_eval',parent_dir)\n",
    "    \n",
    "    all_xyv = pd.read_csv(os.path.join(os.path.join(parent_dir,'session','synth_'+str(nb_sampling)+'_Y_eval','tab'),'dataset.csv'))\n",
    "    produce_6sources(all_xyv,key,ap,'synth_'+str(nb_sampling)+'_Y_eval',parent_dir)\n",
    "    "
   ]
  },
  {
   "cell_type": "code",
   "execution_count": 28,
   "id": "443227e3",
   "metadata": {},
   "outputs": [],
   "source": [
    "key = ['sensor_hq','sensor_mq','sensor_lq','pixel_hq','pixel_mq','pixel_lq']\n",
    "produce_set_6sources(1000,key,ap,parent_dir)"
   ]
  },
  {
   "cell_type": "code",
   "execution_count": 29,
   "id": "c071b65b",
   "metadata": {},
   "outputs": [],
   "source": [
    "all_xyv = pd.read_csv(os.path.join(os.path.join(parent_dir,'session','synth_all_'+str(6400),'tab'),'dataset.csv'))\n",
    "produce_6sources(all_xyv,key,ap,'synth_all_'+str(6400),parent_dir)"
   ]
  }
 ],
 "metadata": {
  "kernelspec": {
   "display_name": "Python 3",
   "language": "python",
   "name": "python3"
  },
  "language_info": {
   "codemirror_mode": {
    "name": "ipython",
    "version": 3
   },
   "file_extension": ".py",
   "mimetype": "text/x-python",
   "name": "python",
   "nbconvert_exporter": "python",
   "pygments_lexer": "ipython3",
   "version": "3.10.12"
  }
 },
 "nbformat": 4,
 "nbformat_minor": 5
}
