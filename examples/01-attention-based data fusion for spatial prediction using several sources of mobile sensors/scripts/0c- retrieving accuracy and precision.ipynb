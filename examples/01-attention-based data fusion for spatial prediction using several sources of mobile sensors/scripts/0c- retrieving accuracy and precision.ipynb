{
 "cells": [
  {
   "cell_type": "markdown",
   "id": "dd0ca2b6",
   "metadata": {},
   "source": [
    "# Producing dataset of 4 & 6 sources of sensors"
   ]
  },
  {
   "cell_type": "code",
   "execution_count": 1,
   "id": "4ec9f074",
   "metadata": {},
   "outputs": [],
   "source": [
    "import os\n",
    "import numpy as np\n",
    "import pandas as pd\n",
    "import torch\n",
    "import math\n",
    "import random\n",
    "import matplotlib.pyplot as plt\n",
    "from matplotlib.gridspec import GridSpec"
   ]
  },
  {
   "cell_type": "code",
   "execution_count": 2,
   "id": "7ecd3920",
   "metadata": {},
   "outputs": [],
   "source": [
    "parent_dir = os.path.abspath(os.path.join(os.path.abspath(os.getcwd()), os.pardir))"
   ]
  },
  {
   "cell_type": "markdown",
   "id": "b48218f7",
   "metadata": {},
   "source": [
    "## Retrieving accuracy and precision from the network with colocation "
   ]
  },
  {
   "cell_type": "code",
   "execution_count": 3,
   "id": "6e7f4442",
   "metadata": {},
   "outputs": [],
   "source": [
    "colocation_xytv = pd.read_csv(os.path.join(os.path.join(parent_dir,'session','synth_'+str(1000)+'_colocation','tab'),'dataset.csv'))"
   ]
  },
  {
   "cell_type": "code",
   "execution_count": 4,
   "id": "becb558b",
   "metadata": {},
   "outputs": [
    {
     "data": {
      "text/html": [
       "<div>\n",
       "<style scoped>\n",
       "    .dataframe tbody tr th:only-of-type {\n",
       "        vertical-align: middle;\n",
       "    }\n",
       "\n",
       "    .dataframe tbody tr th {\n",
       "        vertical-align: top;\n",
       "    }\n",
       "\n",
       "    .dataframe thead th {\n",
       "        text-align: right;\n",
       "    }\n",
       "</style>\n",
       "<table border=\"1\" class=\"dataframe\">\n",
       "  <thead>\n",
       "    <tr style=\"text-align: right;\">\n",
       "      <th></th>\n",
       "      <th>x</th>\n",
       "      <th>y</th>\n",
       "      <th>truth</th>\n",
       "      <th>sensor_hq</th>\n",
       "      <th>sensor_mq</th>\n",
       "      <th>sensor_lq</th>\n",
       "      <th>agg_truth</th>\n",
       "      <th>pixel_hq</th>\n",
       "      <th>pixel_mq</th>\n",
       "      <th>pixel_lq</th>\n",
       "    </tr>\n",
       "  </thead>\n",
       "  <tbody>\n",
       "    <tr>\n",
       "      <th>0</th>\n",
       "      <td>0.658373</td>\n",
       "      <td>0.835299</td>\n",
       "      <td>1.035633</td>\n",
       "      <td>1.037240</td>\n",
       "      <td>1.080460</td>\n",
       "      <td>1.319427</td>\n",
       "      <td>1.093916</td>\n",
       "      <td>1.127492</td>\n",
       "      <td>1.049841</td>\n",
       "      <td>1.531538</td>\n",
       "    </tr>\n",
       "    <tr>\n",
       "      <th>1</th>\n",
       "      <td>0.167042</td>\n",
       "      <td>0.629502</td>\n",
       "      <td>0.776232</td>\n",
       "      <td>0.805247</td>\n",
       "      <td>0.685393</td>\n",
       "      <td>1.082418</td>\n",
       "      <td>0.691692</td>\n",
       "      <td>0.738987</td>\n",
       "      <td>0.640979</td>\n",
       "      <td>0.900058</td>\n",
       "    </tr>\n",
       "    <tr>\n",
       "      <th>2</th>\n",
       "      <td>0.557678</td>\n",
       "      <td>0.918025</td>\n",
       "      <td>1.116958</td>\n",
       "      <td>1.133778</td>\n",
       "      <td>1.061428</td>\n",
       "      <td>1.500772</td>\n",
       "      <td>1.067781</td>\n",
       "      <td>1.156635</td>\n",
       "      <td>1.034316</td>\n",
       "      <td>0.647430</td>\n",
       "    </tr>\n",
       "    <tr>\n",
       "      <th>3</th>\n",
       "      <td>0.474924</td>\n",
       "      <td>0.894371</td>\n",
       "      <td>1.354865</td>\n",
       "      <td>1.375943</td>\n",
       "      <td>1.391476</td>\n",
       "      <td>1.629584</td>\n",
       "      <td>1.329232</td>\n",
       "      <td>1.390496</td>\n",
       "      <td>1.406361</td>\n",
       "      <td>1.951204</td>\n",
       "    </tr>\n",
       "    <tr>\n",
       "      <th>4</th>\n",
       "      <td>0.969739</td>\n",
       "      <td>0.182687</td>\n",
       "      <td>1.795820</td>\n",
       "      <td>1.802798</td>\n",
       "      <td>1.359185</td>\n",
       "      <td>2.614918</td>\n",
       "      <td>1.656136</td>\n",
       "      <td>1.697991</td>\n",
       "      <td>1.429999</td>\n",
       "      <td>1.587076</td>\n",
       "    </tr>\n",
       "    <tr>\n",
       "      <th>...</th>\n",
       "      <td>...</td>\n",
       "      <td>...</td>\n",
       "      <td>...</td>\n",
       "      <td>...</td>\n",
       "      <td>...</td>\n",
       "      <td>...</td>\n",
       "      <td>...</td>\n",
       "      <td>...</td>\n",
       "      <td>...</td>\n",
       "      <td>...</td>\n",
       "    </tr>\n",
       "    <tr>\n",
       "      <th>995</th>\n",
       "      <td>0.462176</td>\n",
       "      <td>0.879585</td>\n",
       "      <td>1.415784</td>\n",
       "      <td>1.401587</td>\n",
       "      <td>1.109184</td>\n",
       "      <td>1.370176</td>\n",
       "      <td>1.243962</td>\n",
       "      <td>1.255739</td>\n",
       "      <td>1.398957</td>\n",
       "      <td>1.507946</td>\n",
       "    </tr>\n",
       "    <tr>\n",
       "      <th>996</th>\n",
       "      <td>0.257352</td>\n",
       "      <td>0.696635</td>\n",
       "      <td>0.893856</td>\n",
       "      <td>0.899156</td>\n",
       "      <td>1.010148</td>\n",
       "      <td>0.905981</td>\n",
       "      <td>0.867768</td>\n",
       "      <td>0.905118</td>\n",
       "      <td>1.077857</td>\n",
       "      <td>1.114976</td>\n",
       "    </tr>\n",
       "    <tr>\n",
       "      <th>997</th>\n",
       "      <td>0.986004</td>\n",
       "      <td>0.130502</td>\n",
       "      <td>1.526831</td>\n",
       "      <td>1.542854</td>\n",
       "      <td>1.270754</td>\n",
       "      <td>1.483116</td>\n",
       "      <td>1.525781</td>\n",
       "      <td>1.582301</td>\n",
       "      <td>1.569167</td>\n",
       "      <td>1.631478</td>\n",
       "    </tr>\n",
       "    <tr>\n",
       "      <th>998</th>\n",
       "      <td>0.549039</td>\n",
       "      <td>0.224442</td>\n",
       "      <td>1.882460</td>\n",
       "      <td>1.891232</td>\n",
       "      <td>1.839731</td>\n",
       "      <td>2.700714</td>\n",
       "      <td>1.875260</td>\n",
       "      <td>1.901088</td>\n",
       "      <td>1.678164</td>\n",
       "      <td>1.509848</td>\n",
       "    </tr>\n",
       "    <tr>\n",
       "      <th>999</th>\n",
       "      <td>0.785001</td>\n",
       "      <td>0.001563</td>\n",
       "      <td>0.047685</td>\n",
       "      <td>0.057102</td>\n",
       "      <td>0.043116</td>\n",
       "      <td>0.123426</td>\n",
       "      <td>0.114253</td>\n",
       "      <td>0.164953</td>\n",
       "      <td>0.160879</td>\n",
       "      <td>0.181641</td>\n",
       "    </tr>\n",
       "  </tbody>\n",
       "</table>\n",
       "<p>1000 rows × 10 columns</p>\n",
       "</div>"
      ],
      "text/plain": [
       "            x         y     truth  sensor_hq  sensor_mq  sensor_lq  agg_truth  \\\n",
       "0    0.658373  0.835299  1.035633   1.037240   1.080460   1.319427   1.093916   \n",
       "1    0.167042  0.629502  0.776232   0.805247   0.685393   1.082418   0.691692   \n",
       "2    0.557678  0.918025  1.116958   1.133778   1.061428   1.500772   1.067781   \n",
       "3    0.474924  0.894371  1.354865   1.375943   1.391476   1.629584   1.329232   \n",
       "4    0.969739  0.182687  1.795820   1.802798   1.359185   2.614918   1.656136   \n",
       "..        ...       ...       ...        ...        ...        ...        ...   \n",
       "995  0.462176  0.879585  1.415784   1.401587   1.109184   1.370176   1.243962   \n",
       "996  0.257352  0.696635  0.893856   0.899156   1.010148   0.905981   0.867768   \n",
       "997  0.986004  0.130502  1.526831   1.542854   1.270754   1.483116   1.525781   \n",
       "998  0.549039  0.224442  1.882460   1.891232   1.839731   2.700714   1.875260   \n",
       "999  0.785001  0.001563  0.047685   0.057102   0.043116   0.123426   0.114253   \n",
       "\n",
       "     pixel_hq  pixel_mq  pixel_lq  \n",
       "0    1.127492  1.049841  1.531538  \n",
       "1    0.738987  0.640979  0.900058  \n",
       "2    1.156635  1.034316  0.647430  \n",
       "3    1.390496  1.406361  1.951204  \n",
       "4    1.697991  1.429999  1.587076  \n",
       "..        ...       ...       ...  \n",
       "995  1.255739  1.398957  1.507946  \n",
       "996  0.905118  1.077857  1.114976  \n",
       "997  1.582301  1.569167  1.631478  \n",
       "998  1.901088  1.678164  1.509848  \n",
       "999  0.164953  0.160879  0.181641  \n",
       "\n",
       "[1000 rows x 10 columns]"
      ]
     },
     "execution_count": 4,
     "metadata": {},
     "output_type": "execute_result"
    }
   ],
   "source": [
    "colocation_xytv"
   ]
  },
  {
   "cell_type": "markdown",
   "id": "ca00bcb4",
   "metadata": {},
   "source": [
    "## Accuracy and precision against high-quality sensors"
   ]
  },
  {
   "cell_type": "code",
   "execution_count": 5,
   "id": "d968f8d1",
   "metadata": {},
   "outputs": [],
   "source": [
    "def rmse(pred,target):\n",
    "    return np.sqrt(np.mean((pred - target)**2))\n",
    "def bias(pred,target):\n",
    "    return np.mean(pred - target)\n",
    "def variance(pred,target):\n",
    "    b = bias(pred,target)\n",
    "    return np.mean(np.abs(pred - target - b))**2"
   ]
  },
  {
   "cell_type": "code",
   "execution_count": 6,
   "id": "a2dbfdea",
   "metadata": {},
   "outputs": [],
   "source": [
    "rmse_sensors_hq = rmse(colocation_xytv.loc[:,'sensor_hq'],colocation_xytv.loc[:,'sensor_hq'])"
   ]
  },
  {
   "cell_type": "code",
   "execution_count": 7,
   "id": "cf8f0db3",
   "metadata": {},
   "outputs": [],
   "source": [
    "variance_sensors_hq = variance(colocation_xytv.loc[:,'sensor_hq'],colocation_xytv.loc[:,'sensor_hq'])"
   ]
  },
  {
   "cell_type": "code",
   "execution_count": 8,
   "id": "2fcd06bd",
   "metadata": {},
   "outputs": [],
   "source": [
    "rmse_sensors_mq = rmse(colocation_xytv.loc[:,'sensor_mq'],colocation_xytv.loc[:,'sensor_hq'])"
   ]
  },
  {
   "cell_type": "code",
   "execution_count": 9,
   "id": "a72d60fa",
   "metadata": {},
   "outputs": [],
   "source": [
    "variance_sensors_mq = variance(colocation_xytv.loc[:,'sensor_mq'],colocation_xytv.loc[:,'sensor_hq'])"
   ]
  },
  {
   "cell_type": "code",
   "execution_count": 10,
   "id": "3a771722",
   "metadata": {},
   "outputs": [],
   "source": [
    "rmse_sensors_lq = rmse(colocation_xytv.loc[:,'sensor_lq'],colocation_xytv.loc[:,'sensor_hq'])"
   ]
  },
  {
   "cell_type": "code",
   "execution_count": 11,
   "id": "65ba8cda",
   "metadata": {},
   "outputs": [],
   "source": [
    "variance_sensors_lq = variance(colocation_xytv.loc[:,'sensor_lq'],colocation_xytv.loc[:,'sensor_hq'])"
   ]
  },
  {
   "cell_type": "code",
   "execution_count": 12,
   "id": "a8790a75",
   "metadata": {},
   "outputs": [],
   "source": [
    "rmse_pixels_hq = rmse(colocation_xytv.loc[:,'pixel_hq'],colocation_xytv.loc[:,'sensor_hq'])"
   ]
  },
  {
   "cell_type": "code",
   "execution_count": 13,
   "id": "cb7b4a99",
   "metadata": {},
   "outputs": [],
   "source": [
    "variance_pixels_hq = variance(colocation_xytv.loc[:,'pixel_hq'],colocation_xytv.loc[:,'sensor_hq'])"
   ]
  },
  {
   "cell_type": "code",
   "execution_count": 14,
   "id": "67daa085",
   "metadata": {},
   "outputs": [],
   "source": [
    "rmse_pixels_mq = rmse(colocation_xytv.loc[:,'pixel_mq'],colocation_xytv.loc[:,'sensor_mq'])"
   ]
  },
  {
   "cell_type": "code",
   "execution_count": 15,
   "id": "18801334",
   "metadata": {},
   "outputs": [],
   "source": [
    "variance_pixels_mq = variance(colocation_xytv.loc[:,'pixel_mq'],colocation_xytv.loc[:,'sensor_mq'])"
   ]
  },
  {
   "cell_type": "code",
   "execution_count": 16,
   "id": "a8cdafe9",
   "metadata": {},
   "outputs": [],
   "source": [
    "rmse_pixels_lq = rmse(colocation_xytv.loc[:,'pixel_lq'],colocation_xytv.loc[:,'sensor_hq'])"
   ]
  },
  {
   "cell_type": "code",
   "execution_count": 17,
   "id": "728b1b30",
   "metadata": {},
   "outputs": [],
   "source": [
    "variance_pixels_lq = variance(colocation_xytv.loc[:,'pixel_lq'],colocation_xytv.loc[:,'sensor_hq'])"
   ]
  },
  {
   "cell_type": "code",
   "execution_count": 18,
   "id": "72c8d5d5",
   "metadata": {},
   "outputs": [],
   "source": [
    "ap = pd.DataFrame(data={'RMSE': [rmse_sensors_hq ,rmse_sensors_mq ,rmse_sensors_lq ,rmse_pixels_hq ,rmse_pixels_mq,rmse_pixels_lq],\n",
    "                        'variance': [variance_sensors_hq,variance_sensors_mq,variance_sensors_lq,variance_pixels_hq,variance_pixels_mq,variance_pixels_lq]})"
   ]
  },
  {
   "cell_type": "code",
   "execution_count": 19,
   "id": "724ecc9e",
   "metadata": {},
   "outputs": [],
   "source": [
    "s = pd.Series(['sensor_hq','sensor_mq','sensor_lq','pixel_hq','pixel_mq','pixel_lq'])"
   ]
  },
  {
   "cell_type": "code",
   "execution_count": 20,
   "id": "cc52e7d6",
   "metadata": {},
   "outputs": [],
   "source": [
    "ap = ap.set_index([s])"
   ]
  },
  {
   "cell_type": "code",
   "execution_count": 21,
   "id": "61ad1188",
   "metadata": {},
   "outputs": [
    {
     "data": {
      "text/html": [
       "<div>\n",
       "<style scoped>\n",
       "    .dataframe tbody tr th:only-of-type {\n",
       "        vertical-align: middle;\n",
       "    }\n",
       "\n",
       "    .dataframe tbody tr th {\n",
       "        vertical-align: top;\n",
       "    }\n",
       "\n",
       "    .dataframe thead th {\n",
       "        text-align: right;\n",
       "    }\n",
       "</style>\n",
       "<table border=\"1\" class=\"dataframe\">\n",
       "  <thead>\n",
       "    <tr style=\"text-align: right;\">\n",
       "      <th></th>\n",
       "      <th>RMSE</th>\n",
       "      <th>variance</th>\n",
       "    </tr>\n",
       "  </thead>\n",
       "  <tbody>\n",
       "    <tr>\n",
       "      <th>sensor_hq</th>\n",
       "      <td>0.000000</td>\n",
       "      <td>0.000000</td>\n",
       "    </tr>\n",
       "    <tr>\n",
       "      <th>sensor_mq</th>\n",
       "      <td>0.119047</td>\n",
       "      <td>0.007231</td>\n",
       "    </tr>\n",
       "    <tr>\n",
       "      <th>sensor_lq</th>\n",
       "      <td>0.335685</td>\n",
       "      <td>0.057084</td>\n",
       "    </tr>\n",
       "    <tr>\n",
       "      <th>pixel_hq</th>\n",
       "      <td>0.082550</td>\n",
       "      <td>0.003558</td>\n",
       "    </tr>\n",
       "    <tr>\n",
       "      <th>pixel_mq</th>\n",
       "      <td>0.171811</td>\n",
       "      <td>0.015894</td>\n",
       "    </tr>\n",
       "    <tr>\n",
       "      <th>pixel_lq</th>\n",
       "      <td>0.352288</td>\n",
       "      <td>0.065278</td>\n",
       "    </tr>\n",
       "  </tbody>\n",
       "</table>\n",
       "</div>"
      ],
      "text/plain": [
       "               RMSE  variance\n",
       "sensor_hq  0.000000  0.000000\n",
       "sensor_mq  0.119047  0.007231\n",
       "sensor_lq  0.335685  0.057084\n",
       "pixel_hq   0.082550  0.003558\n",
       "pixel_mq   0.171811  0.015894\n",
       "pixel_lq   0.352288  0.065278"
      ]
     },
     "execution_count": 21,
     "metadata": {},
     "output_type": "execute_result"
    }
   ],
   "source": [
    "ap"
   ]
  },
  {
   "cell_type": "markdown",
   "id": "94fa4e2f",
   "metadata": {},
   "source": [
    "## Producing dataset of 4 sources of sensors  "
   ]
  },
  {
   "cell_type": "code",
   "execution_count": 22,
   "id": "618c40b9",
   "metadata": {},
   "outputs": [],
   "source": [
    "def produce_4sources(all_xyv,key,ap,name,parent_dir):\n",
    "    \n",
    "    all_xyv.loc[:,\"ref\"] = all_xyv.loc[:,\"sensor_hq\"]\n",
    "    all_xyv.loc[:,\"rmse_ref\"] = ap.loc['sensor_hq','RMSE']\n",
    "    all_xyv.loc[:,\"variance_ref\"] = ap.loc['sensor_hq','variance']\n",
    "    \n",
    "    melted = all_xyv.melt(id_vars=[\"x\",\"y\",\"ref\",\"rmse_ref\",\"variance_ref\"],value_vars=key,ignore_index=True)\n",
    "    melted.loc[melted[\"variable\"]==\"sensor_hq\", \"rmse\"] = ap.loc['sensor_hq','RMSE']\n",
    "    melted.loc[melted[\"variable\"]==\"sensor_lq\", \"rmse\"] = ap.loc['sensor_lq','RMSE']\n",
    "    melted.loc[melted[\"variable\"]==\"pixel_hq\", \"rmse\"] = ap.loc['pixel_hq','RMSE']\n",
    "    melted.loc[melted[\"variable\"]==\"pixel_lq\", \"rmse\"] = ap.loc['pixel_lq','RMSE']\n",
    "    \n",
    "    melted.loc[melted[\"variable\"]==\"sensor_hq\", \"variance\"] = ap.loc['sensor_hq','variance']\n",
    "    melted.loc[melted[\"variable\"]==\"sensor_lq\", \"variance\"] = ap.loc['sensor_lq','variance']\n",
    "    melted.loc[melted[\"variable\"]==\"pixel_hq\", \"variance\"] = ap.loc['pixel_hq','variance']\n",
    "    melted.loc[melted[\"variable\"]==\"pixel_lq\", \"variance\"] = ap.loc['pixel_lq','variance']\n",
    "    \n",
    "    newpath = os.path.join(parent_dir,'session',name+'_4s','tab')\n",
    "    if not os.path.exists(newpath):\n",
    "        os.makedirs(newpath)\n",
    "    f = os.path.join(newpath,'dataset.csv')\n",
    "    melted.to_csv(f,index=False)"
   ]
  },
  {
   "cell_type": "code",
   "execution_count": 23,
   "id": "8f23e1f2",
   "metadata": {},
   "outputs": [],
   "source": [
    "def produce_set_4sources(nb_sampling,key,ap,parent_dir):\n",
    "    \n",
    "    all_xyv = pd.read_csv(os.path.join(os.path.join(parent_dir,'session','synth_'+str(nb_sampling)+'_X_train','tab'),'dataset.csv'))\n",
    "    produce_4sources(all_xyv,key,ap,'synth_'+str(nb_sampling)+'_X_train',parent_dir)\n",
    "    \n",
    "    all_xyv = pd.read_csv(os.path.join(os.path.join(parent_dir,'session','synth_'+str(nb_sampling)+'_Y_train','tab'),'dataset.csv'))\n",
    "    produce_4sources(all_xyv,key,ap,'synth_'+str(nb_sampling)+'_Y_train',parent_dir)\n",
    "    \n",
    "    all_xyv = pd.read_csv(os.path.join(os.path.join(parent_dir,'session','synth_'+str(nb_sampling)+'_X_valid','tab'),'dataset.csv'))\n",
    "    produce_4sources(all_xyv,key,ap,'synth_'+str(nb_sampling)+'_X_valid',parent_dir)\n",
    "    \n",
    "    all_xyv = pd.read_csv(os.path.join(os.path.join(parent_dir,'session','synth_'+str(nb_sampling)+'_Y_valid','tab'),'dataset.csv'))\n",
    "    produce_4sources(all_xyv,key,ap,'synth_'+str(nb_sampling)+'_Y_valid',parent_dir)\n",
    "    \n",
    "    all_xyv = pd.read_csv(os.path.join(os.path.join(parent_dir,'session','synth_'+str(nb_sampling)+'_X_eval','tab'),'dataset.csv'))\n",
    "    produce_4sources(all_xyv,key,ap,'synth_'+str(nb_sampling)+'_X_eval',parent_dir)\n",
    "    \n",
    "    all_xyv = pd.read_csv(os.path.join(os.path.join(parent_dir,'session','synth_'+str(nb_sampling)+'_Y_eval','tab'),'dataset.csv'))\n",
    "    produce_4sources(all_xyv,key,ap,'synth_'+str(nb_sampling)+'_Y_eval',parent_dir)\n",
    "    "
   ]
  },
  {
   "cell_type": "code",
   "execution_count": 24,
   "id": "9dc990fb",
   "metadata": {},
   "outputs": [],
   "source": [
    "key = ['sensor_hq','sensor_lq','pixel_hq','pixel_lq']\n",
    "produce_set_4sources(1000,key,ap,parent_dir)"
   ]
  },
  {
   "cell_type": "code",
   "execution_count": 25,
   "id": "47b8ef93",
   "metadata": {},
   "outputs": [],
   "source": [
    "all_xyv = pd.read_csv(os.path.join(os.path.join(parent_dir,'session','synth_all_'+str(6400),'tab'),'dataset.csv'))\n",
    "produce_4sources(all_xyv,key,ap,'synth_all_'+str(6400),parent_dir)"
   ]
  },
  {
   "cell_type": "markdown",
   "id": "03790045",
   "metadata": {},
   "source": [
    "## Producing dataset of 6 sources of sensors  "
   ]
  },
  {
   "cell_type": "code",
   "execution_count": 26,
   "id": "c30faf31",
   "metadata": {},
   "outputs": [],
   "source": [
    "def produce_6sources(all_xyv,key,ap,name,parent_dir):\n",
    "    \n",
    "    all_xyv.loc[:,\"ref\"] = all_xyv.loc[:,\"sensor_hq\"]\n",
    "    all_xyv.loc[:,\"rmse_ref\"] = ap.loc['sensor_hq','RMSE']\n",
    "    all_xyv.loc[:,\"variance_ref\"] = ap.loc['sensor_hq','variance']\n",
    "    \n",
    "    melted = all_xyv.melt(id_vars=[\"x\",\"y\",\"ref\",\"rmse_ref\",\"variance_ref\"],value_vars=key,ignore_index=True)\n",
    "    melted.loc[melted[\"variable\"]==\"sensor_hq\", \"rmse\"] = ap.loc['sensor_hq','RMSE']\n",
    "    melted.loc[melted[\"variable\"]==\"sensor_mq\", \"rmse\"] = ap.loc['sensor_mq','RMSE']\n",
    "    melted.loc[melted[\"variable\"]==\"sensor_lq\", \"rmse\"] = ap.loc['sensor_lq','RMSE']\n",
    "    melted.loc[melted[\"variable\"]==\"pixel_hq\", \"rmse\"] = ap.loc['pixel_hq','RMSE']\n",
    "    melted.loc[melted[\"variable\"]==\"pixel_mq\", \"rmse\"] = ap.loc['pixel_mq','RMSE']\n",
    "    melted.loc[melted[\"variable\"]==\"pixel_lq\", \"rmse\"] = ap.loc['pixel_lq','RMSE']\n",
    "    \n",
    "    melted.loc[melted[\"variable\"]==\"sensor_hq\", \"variance\"] = ap.loc['sensor_hq','variance']\n",
    "    melted.loc[melted[\"variable\"]==\"sensor_mq\", \"variance\"] = ap.loc['sensor_mq','variance']\n",
    "    melted.loc[melted[\"variable\"]==\"sensor_lq\", \"variance\"] = ap.loc['sensor_lq','variance']\n",
    "    melted.loc[melted[\"variable\"]==\"pixel_hq\", \"variance\"] = ap.loc['pixel_hq','variance']\n",
    "    melted.loc[melted[\"variable\"]==\"pixel_mq\", \"variance\"] = ap.loc['pixel_mq','variance']\n",
    "    melted.loc[melted[\"variable\"]==\"pixel_lq\", \"variance\"] = ap.loc['pixel_lq','variance']\n",
    "    \n",
    "    newpath = os.path.join(parent_dir,'session',name+'_6s','tab')\n",
    "    if not os.path.exists(newpath):\n",
    "        os.makedirs(newpath)\n",
    "    f = os.path.join(newpath,'dataset.csv')\n",
    "    melted.to_csv(f,index=False)"
   ]
  },
  {
   "cell_type": "code",
   "execution_count": 27,
   "id": "12afba60",
   "metadata": {},
   "outputs": [],
   "source": [
    "def produce_set_6sources(nb_sampling,key,ap,parent_dir):\n",
    "    \n",
    "    all_xyv = pd.read_csv(os.path.join(os.path.join(parent_dir,'session','synth_'+str(nb_sampling)+'_X_train','tab'),'dataset.csv'))\n",
    "    produce_6sources(all_xyv,key,ap,'synth_'+str(nb_sampling)+'_X_train',parent_dir)\n",
    "    \n",
    "    all_xyv = pd.read_csv(os.path.join(os.path.join(parent_dir,'session','synth_'+str(nb_sampling)+'_Y_train','tab'),'dataset.csv'))\n",
    "    produce_6sources(all_xyv,key,ap,'synth_'+str(nb_sampling)+'_Y_train',parent_dir)\n",
    "    \n",
    "    all_xyv = pd.read_csv(os.path.join(os.path.join(parent_dir,'session','synth_'+str(nb_sampling)+'_X_valid','tab'),'dataset.csv'))\n",
    "    produce_6sources(all_xyv,key,ap,'synth_'+str(nb_sampling)+'_X_valid',parent_dir)\n",
    "    \n",
    "    all_xyv = pd.read_csv(os.path.join(os.path.join(parent_dir,'session','synth_'+str(nb_sampling)+'_Y_valid','tab'),'dataset.csv'))\n",
    "    produce_6sources(all_xyv,key,ap,'synth_'+str(nb_sampling)+'_Y_valid',parent_dir)\n",
    "    \n",
    "    all_xyv = pd.read_csv(os.path.join(os.path.join(parent_dir,'session','synth_'+str(nb_sampling)+'_X_eval','tab'),'dataset.csv'))\n",
    "    produce_6sources(all_xyv,key,ap,'synth_'+str(nb_sampling)+'_X_eval',parent_dir)\n",
    "    \n",
    "    all_xyv = pd.read_csv(os.path.join(os.path.join(parent_dir,'session','synth_'+str(nb_sampling)+'_Y_eval','tab'),'dataset.csv'))\n",
    "    produce_6sources(all_xyv,key,ap,'synth_'+str(nb_sampling)+'_Y_eval',parent_dir)\n",
    "    "
   ]
  },
  {
   "cell_type": "code",
   "execution_count": 28,
   "id": "443227e3",
   "metadata": {},
   "outputs": [],
   "source": [
    "key = ['sensor_hq','sensor_mq','sensor_lq','pixel_hq','pixel_mq','pixel_lq']\n",
    "produce_set_6sources(1000,key,ap,parent_dir)"
   ]
  },
  {
   "cell_type": "code",
   "execution_count": 29,
   "id": "c071b65b",
   "metadata": {},
   "outputs": [],
   "source": [
    "all_xyv = pd.read_csv(os.path.join(os.path.join(parent_dir,'session','synth_all_'+str(6400),'tab'),'dataset.csv'))\n",
    "produce_6sources(all_xyv,key,ap,'synth_all_'+str(6400),parent_dir)"
   ]
  },
  {
   "cell_type": "code",
   "execution_count": null,
   "id": "c2221bc8",
   "metadata": {},
   "outputs": [],
   "source": []
  }
 ],
 "metadata": {
  "kernelspec": {
   "display_name": "Python 3",
   "language": "python",
   "name": "python3"
  },
  "language_info": {
   "codemirror_mode": {
    "name": "ipython",
    "version": 3
   },
   "file_extension": ".py",
   "mimetype": "text/x-python",
   "name": "python",
   "nbconvert_exporter": "python",
   "pygments_lexer": "ipython3",
   "version": "3.8.10"
  }
 },
 "nbformat": 4,
 "nbformat_minor": 5
}
