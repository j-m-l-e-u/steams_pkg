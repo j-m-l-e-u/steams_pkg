{
 "cells": [
  {
   "cell_type": "markdown",
   "id": "dd0ca2b6",
   "metadata": {},
   "source": [
    "# Producing dataset of 4 & 6 sources of sensors"
   ]
  },
  {
   "cell_type": "code",
   "execution_count": 1,
   "id": "4ec9f074",
   "metadata": {},
   "outputs": [],
   "source": [
    "import os\n",
    "import numpy as np\n",
    "import pandas as pd\n",
    "import torch\n",
    "import math\n",
    "import random\n",
    "import matplotlib.pyplot as plt\n",
    "from matplotlib.gridspec import GridSpec\n",
    "from steams.utils.criterion import R2,RMSE,variance"
   ]
  },
  {
   "cell_type": "code",
   "execution_count": 2,
   "id": "7ecd3920",
   "metadata": {},
   "outputs": [],
   "source": [
    "parent_dir = os.path.abspath(os.path.join(os.path.abspath(os.getcwd()), os.pardir))"
   ]
  },
  {
   "cell_type": "code",
   "execution_count": 3,
   "id": "55f88498",
   "metadata": {},
   "outputs": [],
   "source": [
    "resdir = os.path.join(parent_dir,'results')\n",
    "figdir = os.path.join(parent_dir,'fig')\n",
    "if not os.path.exists(figdir):\n",
    "    os.makedirs(figdir)\n",
    "if not os.path.exists(resdir):\n",
    "    os.makedirs(resdir)"
   ]
  },
  {
   "cell_type": "code",
   "execution_count": 4,
   "id": "348ce993",
   "metadata": {},
   "outputs": [],
   "source": [
    "if torch.cuda.is_available():\n",
    "    cuda_name = \"1\"\n",
    "    num_workers=0\n",
    "    pin_memory = True\n",
    "    device = torch.device('cuda'+\":\"+cuda_name)\n",
    "    #device = torch.device('cuda')\n",
    "else:\n",
    "    num_workers = 0\n",
    "    pin_memory = False\n",
    "    device = torch.device('cpu')"
   ]
  },
  {
   "cell_type": "markdown",
   "id": "b48218f7",
   "metadata": {},
   "source": [
    "## Retrieving accuracy and precision from the network with colocation "
   ]
  },
  {
   "cell_type": "code",
   "execution_count": 5,
   "id": "6e7f4442",
   "metadata": {},
   "outputs": [],
   "source": [
    "colocation_xytv = pd.read_csv(os.path.join(os.path.join(parent_dir,'session','synth_'+str(1000)+'_colocation','tab'),'dataset.csv'))"
   ]
  },
  {
   "cell_type": "code",
   "execution_count": 6,
   "id": "becb558b",
   "metadata": {},
   "outputs": [
    {
     "data": {
      "text/html": [
       "<div>\n",
       "<style scoped>\n",
       "    .dataframe tbody tr th:only-of-type {\n",
       "        vertical-align: middle;\n",
       "    }\n",
       "\n",
       "    .dataframe tbody tr th {\n",
       "        vertical-align: top;\n",
       "    }\n",
       "\n",
       "    .dataframe thead th {\n",
       "        text-align: right;\n",
       "    }\n",
       "</style>\n",
       "<table border=\"1\" class=\"dataframe\">\n",
       "  <thead>\n",
       "    <tr style=\"text-align: right;\">\n",
       "      <th></th>\n",
       "      <th>x</th>\n",
       "      <th>y</th>\n",
       "      <th>truth</th>\n",
       "      <th>sensor_hq</th>\n",
       "      <th>sensor_mq</th>\n",
       "      <th>sensor_lq</th>\n",
       "      <th>agg_truth</th>\n",
       "      <th>pixel_hq</th>\n",
       "      <th>pixel_mq</th>\n",
       "      <th>pixel_lq</th>\n",
       "    </tr>\n",
       "  </thead>\n",
       "  <tbody>\n",
       "    <tr>\n",
       "      <th>0</th>\n",
       "      <td>4345412.5</td>\n",
       "      <td>4098012.5</td>\n",
       "      <td>267.193146</td>\n",
       "      <td>273.912279</td>\n",
       "      <td>285.502201</td>\n",
       "      <td>243.203234</td>\n",
       "      <td>307.017029</td>\n",
       "      <td>318.668121</td>\n",
       "      <td>308.469086</td>\n",
       "      <td>189.253082</td>\n",
       "    </tr>\n",
       "    <tr>\n",
       "      <th>1</th>\n",
       "      <td>4347887.5</td>\n",
       "      <td>4094387.5</td>\n",
       "      <td>213.880600</td>\n",
       "      <td>211.354907</td>\n",
       "      <td>211.984550</td>\n",
       "      <td>200.164146</td>\n",
       "      <td>238.884048</td>\n",
       "      <td>240.081329</td>\n",
       "      <td>271.816071</td>\n",
       "      <td>233.670532</td>\n",
       "    </tr>\n",
       "    <tr>\n",
       "      <th>2</th>\n",
       "      <td>4347362.5</td>\n",
       "      <td>4093637.5</td>\n",
       "      <td>268.858093</td>\n",
       "      <td>271.564914</td>\n",
       "      <td>239.483391</td>\n",
       "      <td>222.841450</td>\n",
       "      <td>227.442703</td>\n",
       "      <td>231.138306</td>\n",
       "      <td>265.580933</td>\n",
       "      <td>276.481171</td>\n",
       "    </tr>\n",
       "    <tr>\n",
       "      <th>3</th>\n",
       "      <td>4349987.5</td>\n",
       "      <td>4088012.5</td>\n",
       "      <td>12.343777</td>\n",
       "      <td>13.362613</td>\n",
       "      <td>14.211148</td>\n",
       "      <td>18.224510</td>\n",
       "      <td>387.300568</td>\n",
       "      <td>381.637360</td>\n",
       "      <td>322.772827</td>\n",
       "      <td>559.941162</td>\n",
       "    </tr>\n",
       "    <tr>\n",
       "      <th>4</th>\n",
       "      <td>4350662.5</td>\n",
       "      <td>4092087.5</td>\n",
       "      <td>293.696320</td>\n",
       "      <td>291.646843</td>\n",
       "      <td>310.071340</td>\n",
       "      <td>266.330215</td>\n",
       "      <td>449.976044</td>\n",
       "      <td>451.206604</td>\n",
       "      <td>445.213379</td>\n",
       "      <td>345.321808</td>\n",
       "    </tr>\n",
       "    <tr>\n",
       "      <th>...</th>\n",
       "      <td>...</td>\n",
       "      <td>...</td>\n",
       "      <td>...</td>\n",
       "      <td>...</td>\n",
       "      <td>...</td>\n",
       "      <td>...</td>\n",
       "      <td>...</td>\n",
       "      <td>...</td>\n",
       "      <td>...</td>\n",
       "      <td>...</td>\n",
       "    </tr>\n",
       "    <tr>\n",
       "      <th>995</th>\n",
       "      <td>4348887.5</td>\n",
       "      <td>4095162.5</td>\n",
       "      <td>139.743286</td>\n",
       "      <td>136.372717</td>\n",
       "      <td>147.914606</td>\n",
       "      <td>165.564345</td>\n",
       "      <td>381.636597</td>\n",
       "      <td>380.288025</td>\n",
       "      <td>387.245789</td>\n",
       "      <td>296.407776</td>\n",
       "    </tr>\n",
       "    <tr>\n",
       "      <th>996</th>\n",
       "      <td>4345312.5</td>\n",
       "      <td>4097787.5</td>\n",
       "      <td>322.924225</td>\n",
       "      <td>340.671936</td>\n",
       "      <td>303.121769</td>\n",
       "      <td>406.209329</td>\n",
       "      <td>307.017029</td>\n",
       "      <td>318.668121</td>\n",
       "      <td>308.469086</td>\n",
       "      <td>189.253082</td>\n",
       "    </tr>\n",
       "    <tr>\n",
       "      <th>997</th>\n",
       "      <td>4345237.5</td>\n",
       "      <td>4091262.5</td>\n",
       "      <td>156.627365</td>\n",
       "      <td>156.843468</td>\n",
       "      <td>154.367754</td>\n",
       "      <td>41.598179</td>\n",
       "      <td>307.017029</td>\n",
       "      <td>318.668121</td>\n",
       "      <td>308.469086</td>\n",
       "      <td>189.253082</td>\n",
       "    </tr>\n",
       "    <tr>\n",
       "      <th>998</th>\n",
       "      <td>4345162.5</td>\n",
       "      <td>4092287.5</td>\n",
       "      <td>182.810028</td>\n",
       "      <td>182.841838</td>\n",
       "      <td>153.497984</td>\n",
       "      <td>243.532764</td>\n",
       "      <td>239.044693</td>\n",
       "      <td>238.970718</td>\n",
       "      <td>256.046204</td>\n",
       "      <td>164.620361</td>\n",
       "    </tr>\n",
       "    <tr>\n",
       "      <th>999</th>\n",
       "      <td>4354087.5</td>\n",
       "      <td>4093612.5</td>\n",
       "      <td>144.821274</td>\n",
       "      <td>144.195462</td>\n",
       "      <td>152.246835</td>\n",
       "      <td>144.657407</td>\n",
       "      <td>306.490967</td>\n",
       "      <td>290.724670</td>\n",
       "      <td>345.478729</td>\n",
       "      <td>369.060028</td>\n",
       "    </tr>\n",
       "  </tbody>\n",
       "</table>\n",
       "<p>1000 rows × 10 columns</p>\n",
       "</div>"
      ],
      "text/plain": [
       "             x          y       truth   sensor_hq   sensor_mq   sensor_lq  \\\n",
       "0    4345412.5  4098012.5  267.193146  273.912279  285.502201  243.203234   \n",
       "1    4347887.5  4094387.5  213.880600  211.354907  211.984550  200.164146   \n",
       "2    4347362.5  4093637.5  268.858093  271.564914  239.483391  222.841450   \n",
       "3    4349987.5  4088012.5   12.343777   13.362613   14.211148   18.224510   \n",
       "4    4350662.5  4092087.5  293.696320  291.646843  310.071340  266.330215   \n",
       "..         ...        ...         ...         ...         ...         ...   \n",
       "995  4348887.5  4095162.5  139.743286  136.372717  147.914606  165.564345   \n",
       "996  4345312.5  4097787.5  322.924225  340.671936  303.121769  406.209329   \n",
       "997  4345237.5  4091262.5  156.627365  156.843468  154.367754   41.598179   \n",
       "998  4345162.5  4092287.5  182.810028  182.841838  153.497984  243.532764   \n",
       "999  4354087.5  4093612.5  144.821274  144.195462  152.246835  144.657407   \n",
       "\n",
       "      agg_truth    pixel_hq    pixel_mq    pixel_lq  \n",
       "0    307.017029  318.668121  308.469086  189.253082  \n",
       "1    238.884048  240.081329  271.816071  233.670532  \n",
       "2    227.442703  231.138306  265.580933  276.481171  \n",
       "3    387.300568  381.637360  322.772827  559.941162  \n",
       "4    449.976044  451.206604  445.213379  345.321808  \n",
       "..          ...         ...         ...         ...  \n",
       "995  381.636597  380.288025  387.245789  296.407776  \n",
       "996  307.017029  318.668121  308.469086  189.253082  \n",
       "997  307.017029  318.668121  308.469086  189.253082  \n",
       "998  239.044693  238.970718  256.046204  164.620361  \n",
       "999  306.490967  290.724670  345.478729  369.060028  \n",
       "\n",
       "[1000 rows x 10 columns]"
      ]
     },
     "execution_count": 6,
     "metadata": {},
     "output_type": "execute_result"
    }
   ],
   "source": [
    "colocation_xytv"
   ]
  },
  {
   "cell_type": "markdown",
   "id": "ca00bcb4",
   "metadata": {},
   "source": [
    "## Accuracy and precision against high-quality sensors"
   ]
  },
  {
   "cell_type": "code",
   "execution_count": 7,
   "id": "d968f8d1",
   "metadata": {},
   "outputs": [],
   "source": [
    "def rmse(pred,target):\n",
    "    return np.sqrt(np.mean((pred - target)**2))\n",
    "def bias(pred,target):\n",
    "    return np.mean(pred - target)\n",
    "def variance(pred,target):\n",
    "    b = bias(pred,target)\n",
    "    return np.mean(np.abs(pred - target - b))**2"
   ]
  },
  {
   "cell_type": "code",
   "execution_count": 8,
   "id": "a2dbfdea",
   "metadata": {},
   "outputs": [],
   "source": [
    "rmse_sensors_hq = rmse(colocation_xytv.loc[:,'sensor_hq'],colocation_xytv.loc[:,'sensor_hq'])"
   ]
  },
  {
   "cell_type": "code",
   "execution_count": 9,
   "id": "cf8f0db3",
   "metadata": {},
   "outputs": [],
   "source": [
    "variance_sensors_hq = variance(colocation_xytv.loc[:,'sensor_hq'],colocation_xytv.loc[:,'sensor_hq'])"
   ]
  },
  {
   "cell_type": "code",
   "execution_count": 10,
   "id": "2fcd06bd",
   "metadata": {},
   "outputs": [],
   "source": [
    "rmse_sensors_mq = rmse(colocation_xytv.loc[:,'sensor_mq'],colocation_xytv.loc[:,'sensor_hq'])"
   ]
  },
  {
   "cell_type": "code",
   "execution_count": 11,
   "id": "a72d60fa",
   "metadata": {},
   "outputs": [],
   "source": [
    "variance_sensors_mq = variance(colocation_xytv.loc[:,'sensor_mq'],colocation_xytv.loc[:,'sensor_hq'])"
   ]
  },
  {
   "cell_type": "code",
   "execution_count": 12,
   "id": "3a771722",
   "metadata": {},
   "outputs": [],
   "source": [
    "rmse_sensors_lq = rmse(colocation_xytv.loc[:,'sensor_lq'],colocation_xytv.loc[:,'sensor_hq'])"
   ]
  },
  {
   "cell_type": "code",
   "execution_count": 13,
   "id": "65ba8cda",
   "metadata": {},
   "outputs": [],
   "source": [
    "variance_sensors_lq = variance(colocation_xytv.loc[:,'sensor_lq'],colocation_xytv.loc[:,'sensor_hq'])"
   ]
  },
  {
   "cell_type": "code",
   "execution_count": 14,
   "id": "a8790a75",
   "metadata": {},
   "outputs": [],
   "source": [
    "rmse_pixels_hq = rmse(colocation_xytv.loc[:,'pixel_hq'],colocation_xytv.loc[:,'sensor_hq'])"
   ]
  },
  {
   "cell_type": "code",
   "execution_count": 15,
   "id": "cb7b4a99",
   "metadata": {},
   "outputs": [],
   "source": [
    "variance_pixels_hq = variance(colocation_xytv.loc[:,'pixel_hq'],colocation_xytv.loc[:,'sensor_hq'])"
   ]
  },
  {
   "cell_type": "code",
   "execution_count": 16,
   "id": "67daa085",
   "metadata": {},
   "outputs": [],
   "source": [
    "rmse_pixels_mq = rmse(colocation_xytv.loc[:,'pixel_mq'],colocation_xytv.loc[:,'sensor_mq'])"
   ]
  },
  {
   "cell_type": "code",
   "execution_count": 17,
   "id": "18801334",
   "metadata": {},
   "outputs": [],
   "source": [
    "variance_pixels_mq = variance(colocation_xytv.loc[:,'pixel_mq'],colocation_xytv.loc[:,'sensor_mq'])"
   ]
  },
  {
   "cell_type": "code",
   "execution_count": 18,
   "id": "a8cdafe9",
   "metadata": {},
   "outputs": [],
   "source": [
    "rmse_pixels_lq = rmse(colocation_xytv.loc[:,'pixel_lq'],colocation_xytv.loc[:,'sensor_hq'])"
   ]
  },
  {
   "cell_type": "code",
   "execution_count": 19,
   "id": "728b1b30",
   "metadata": {},
   "outputs": [],
   "source": [
    "variance_pixels_lq = variance(colocation_xytv.loc[:,'pixel_lq'],colocation_xytv.loc[:,'sensor_hq'])"
   ]
  },
  {
   "cell_type": "code",
   "execution_count": 20,
   "id": "72c8d5d5",
   "metadata": {},
   "outputs": [],
   "source": [
    "ap = pd.DataFrame(data={'RMSE': [rmse_sensors_hq ,rmse_sensors_mq ,rmse_sensors_lq ,rmse_pixels_hq ,rmse_pixels_mq,rmse_pixels_lq],\n",
    "                        'variance': [variance_sensors_hq,variance_sensors_mq,variance_sensors_lq,variance_pixels_hq,variance_pixels_mq,variance_pixels_lq]})"
   ]
  },
  {
   "cell_type": "code",
   "execution_count": 21,
   "id": "724ecc9e",
   "metadata": {},
   "outputs": [],
   "source": [
    "s = pd.Series(['sensor_hq','sensor_mq','sensor_lq','pixel_hq','pixel_mq','pixel_lq'])"
   ]
  },
  {
   "cell_type": "code",
   "execution_count": 22,
   "id": "cc52e7d6",
   "metadata": {},
   "outputs": [],
   "source": [
    "ap = ap.set_index([s])"
   ]
  },
  {
   "cell_type": "code",
   "execution_count": 23,
   "id": "61ad1188",
   "metadata": {},
   "outputs": [
    {
     "data": {
      "text/html": [
       "<div>\n",
       "<style scoped>\n",
       "    .dataframe tbody tr th:only-of-type {\n",
       "        vertical-align: middle;\n",
       "    }\n",
       "\n",
       "    .dataframe tbody tr th {\n",
       "        vertical-align: top;\n",
       "    }\n",
       "\n",
       "    .dataframe thead th {\n",
       "        text-align: right;\n",
       "    }\n",
       "</style>\n",
       "<table border=\"1\" class=\"dataframe\">\n",
       "  <thead>\n",
       "    <tr style=\"text-align: right;\">\n",
       "      <th></th>\n",
       "      <th>RMSE</th>\n",
       "      <th>variance</th>\n",
       "    </tr>\n",
       "  </thead>\n",
       "  <tbody>\n",
       "    <tr>\n",
       "      <th>sensor_hq</th>\n",
       "      <td>0.000000</td>\n",
       "      <td>0.000000</td>\n",
       "    </tr>\n",
       "    <tr>\n",
       "      <th>sensor_mq</th>\n",
       "      <td>24.241442</td>\n",
       "      <td>283.182068</td>\n",
       "    </tr>\n",
       "    <tr>\n",
       "      <th>sensor_lq</th>\n",
       "      <td>68.998170</td>\n",
       "      <td>2374.063889</td>\n",
       "    </tr>\n",
       "    <tr>\n",
       "      <th>pixel_hq</th>\n",
       "      <td>173.520421</td>\n",
       "      <td>10974.095790</td>\n",
       "    </tr>\n",
       "    <tr>\n",
       "      <th>pixel_mq</th>\n",
       "      <td>179.436962</td>\n",
       "      <td>11571.372545</td>\n",
       "    </tr>\n",
       "    <tr>\n",
       "      <th>pixel_lq</th>\n",
       "      <td>202.601992</td>\n",
       "      <td>16904.781816</td>\n",
       "    </tr>\n",
       "  </tbody>\n",
       "</table>\n",
       "</div>"
      ],
      "text/plain": [
       "                 RMSE      variance\n",
       "sensor_hq    0.000000      0.000000\n",
       "sensor_mq   24.241442    283.182068\n",
       "sensor_lq   68.998170   2374.063889\n",
       "pixel_hq   173.520421  10974.095790\n",
       "pixel_mq   179.436962  11571.372545\n",
       "pixel_lq   202.601992  16904.781816"
      ]
     },
     "execution_count": 23,
     "metadata": {},
     "output_type": "execute_result"
    }
   ],
   "source": [
    "ap"
   ]
  },
  {
   "cell_type": "code",
   "execution_count": 24,
   "id": "1304f575",
   "metadata": {},
   "outputs": [],
   "source": [
    "ap2 = pd.DataFrame(data={'RMSE': [84.14,88.47,81.77,83.74,79.97,80.67,36.04,39.17,31.88,31.13,31.93,30.96],\n",
    "                        'variance': [4543.58,5031.97,4207.19,4400.30,3980.34,4190.81,727.87,874.31,583.51,541.95,583.69,495.90]})\n",
    "s = pd.Series(['krig','NW','krig2','NW2','krig3','NW3','krignn','NWnn','krignn2','NWnn2','krignn3','NWnn3'])\n",
    "ap2 = ap2.set_index([s])"
   ]
  },
  {
   "cell_type": "code",
   "execution_count": 35,
   "id": "8d36fc79",
   "metadata": {},
   "outputs": [
    {
     "data": {
      "image/png": "[encoded data removed]",
      "text/plain": [
       "<Figure size 432x432 with 1 Axes>"
      ]
     },
     "metadata": {
      "needs_background": "light"
     },
     "output_type": "display_data"
    }
   ],
   "source": [
    "fig, ax = plt.subplots(figsize=(6, 6))\n",
    "ax.set_xlabel('RMSE')\n",
    "ax.xaxis.set_label_position('top')\n",
    "ax.xaxis.tick_top()\n",
    "ax.invert_yaxis()\n",
    "ax.scatter(ap.loc[:,\"RMSE\"],ap.loc[:,\"variance\"], linewidth=2.0,c=\"black\")\n",
    "\n",
    "ax.scatter(ap2.loc[:,\"RMSE\"],ap2.loc[:,\"variance\"], linewidth=2.0,c=\"green\",marker =\"*\")\n",
    "\n",
    "ax.text(ap['RMSE'][0]+4, ap['variance'][0], '$R_HQ_H$')\n",
    "ax.text(ap['RMSE'][1]-15, ap['variance'][1]+800, '$R_HQ_M$')\n",
    "ax.text(ap['RMSE'][2]+4, ap['variance'][2], '$R_HQ_L$')\n",
    "ax.text(ap['RMSE'][3]+4, ap['variance'][3], '$R_LQ_H$')\n",
    "ax.text(ap['RMSE'][4]+4, ap['variance'][4]+800, '$R_LQ_M$')\n",
    "ax.text(ap['RMSE'][5]-10, ap['variance'][5]-500, '$R_LQ_L$')\n",
    "\n",
    "ax.text(ap2['RMSE'][0]+12, ap2['variance'][0]+1300, 'krig')\n",
    "ax.text(ap2['RMSE'][1]+9, ap2['variance'][1]+1500, 'NW')\n",
    "ax.text(ap2['RMSE'][2]+10, ap2['variance'][2]+400, 'krig2')\n",
    "ax.text(ap2['RMSE'][3]+12, ap2['variance'][3]+900, 'NW2')\n",
    "ax.text(ap2['RMSE'][4], ap2['variance'][4]-600, 'krig3')\n",
    "ax.text(ap2['RMSE'][5]+5, ap2['variance'][5]-150, 'NW3')\n",
    "\n",
    "ax.text(ap2['RMSE'][6]-20, ap2['variance'][6]+2500, ' krigNN')\n",
    "ax.text(ap2['RMSE'][7]-15, ap2['variance'][7]+3000, 'NWNN')\n",
    "ax.text(ap2['RMSE'][8]+25, ap2['variance'][8]+500, ' krigNN2')\n",
    "ax.text(ap2['RMSE'][9]+20, ap2['variance'][9], 'NWNN2')\n",
    "ax.text(ap2['RMSE'][10]-25, ap2['variance'][10]+2000, ' krigNN3')\n",
    "ax.text(ap2['RMSE'][11]+15, ap2['variance'][11]-500, 'NWNN3')\n",
    "\n",
    "ax.arrow(ap2['RMSE'][11]+14, ap2['variance'][11]-500,-10, +400)\n",
    "ax.arrow(ap2['RMSE'][10]-10, ap2['variance'][10]+1500,+15, -1000)\n",
    "        \n",
    "ax.set(ylabel='Variance')\n",
    "\n",
    "fig_filename = os.path.join(parent_dir,'fig','ap_topo_plot.png')\n",
    "plt.savefig(fig_filename, dpi = 300)"
   ]
  },
  {
   "cell_type": "markdown",
   "id": "94fa4e2f",
   "metadata": {},
   "source": [
    "## Producing dataset of 4 sources of sensors  "
   ]
  },
  {
   "cell_type": "code",
   "execution_count": 24,
   "id": "618c40b9",
   "metadata": {},
   "outputs": [],
   "source": [
    "def produce_4sources(all_xyv,key,ap,name,parent_dir):\n",
    "    \n",
    "    all_xyv.loc[:,\"ref\"] = all_xyv.loc[:,\"sensor_hq\"]\n",
    "    all_xyv.loc[:,\"rmse_ref\"] = ap.loc['sensor_hq','RMSE']\n",
    "    all_xyv.loc[:,\"variance_ref\"] = ap.loc['sensor_hq','variance']\n",
    "    \n",
    "    melted = all_xyv.melt(id_vars=[\"x\",\"y\",\"ref\",\"rmse_ref\",\"variance_ref\"],value_vars=key,ignore_index=True)\n",
    "    melted.loc[melted[\"variable\"]==\"sensor_hq\", \"rmse\"] = ap.loc['sensor_hq','RMSE']\n",
    "    melted.loc[melted[\"variable\"]==\"sensor_lq\", \"rmse\"] = ap.loc['sensor_lq','RMSE']\n",
    "    melted.loc[melted[\"variable\"]==\"pixel_hq\", \"rmse\"] = ap.loc['pixel_hq','RMSE']\n",
    "    melted.loc[melted[\"variable\"]==\"pixel_lq\", \"rmse\"] = ap.loc['pixel_lq','RMSE']\n",
    "    \n",
    "    melted.loc[melted[\"variable\"]==\"sensor_hq\", \"variance\"] = ap.loc['sensor_hq','variance']\n",
    "    melted.loc[melted[\"variable\"]==\"sensor_lq\", \"variance\"] = ap.loc['sensor_lq','variance']\n",
    "    melted.loc[melted[\"variable\"]==\"pixel_hq\", \"variance\"] = ap.loc['pixel_hq','variance']\n",
    "    melted.loc[melted[\"variable\"]==\"pixel_lq\", \"variance\"] = ap.loc['pixel_lq','variance']\n",
    "    \n",
    "    newpath = os.path.join(parent_dir,'session',name+'_4s','tab')\n",
    "    if not os.path.exists(newpath):\n",
    "        os.makedirs(newpath)\n",
    "    f = os.path.join(newpath,'dataset.csv')\n",
    "    melted.to_csv(f,index=False)"
   ]
  },
  {
   "cell_type": "code",
   "execution_count": 25,
   "id": "8f23e1f2",
   "metadata": {},
   "outputs": [],
   "source": [
    "def produce_set_4sources(nb_sampling,key,ap,parent_dir):\n",
    "    \n",
    "    all_xyv = pd.read_csv(os.path.join(os.path.join(parent_dir,'session','synth_'+str(nb_sampling)+'_X_train','tab'),'dataset.csv'))\n",
    "    produce_4sources(all_xyv,key,ap,'synth_'+str(nb_sampling)+'_X_train',parent_dir)\n",
    "    \n",
    "    all_xyv = pd.read_csv(os.path.join(os.path.join(parent_dir,'session','synth_'+str(nb_sampling)+'_Y_train','tab'),'dataset.csv'))\n",
    "    produce_4sources(all_xyv,key,ap,'synth_'+str(nb_sampling)+'_Y_train',parent_dir)\n",
    "    \n",
    "    all_xyv = pd.read_csv(os.path.join(os.path.join(parent_dir,'session','synth_'+str(nb_sampling)+'_X_valid','tab'),'dataset.csv'))\n",
    "    produce_4sources(all_xyv,key,ap,'synth_'+str(nb_sampling)+'_X_valid',parent_dir)\n",
    "    \n",
    "    all_xyv = pd.read_csv(os.path.join(os.path.join(parent_dir,'session','synth_'+str(nb_sampling)+'_Y_valid','tab'),'dataset.csv'))\n",
    "    produce_4sources(all_xyv,key,ap,'synth_'+str(nb_sampling)+'_Y_valid',parent_dir)\n",
    "    \n",
    "    all_xyv = pd.read_csv(os.path.join(os.path.join(parent_dir,'session','synth_'+str(nb_sampling)+'_X_eval','tab'),'dataset.csv'))\n",
    "    produce_4sources(all_xyv,key,ap,'synth_'+str(nb_sampling)+'_X_eval',parent_dir)\n",
    "    \n",
    "    all_xyv = pd.read_csv(os.path.join(os.path.join(parent_dir,'session','synth_'+str(nb_sampling)+'_Y_eval','tab'),'dataset.csv'))\n",
    "    produce_4sources(all_xyv,key,ap,'synth_'+str(nb_sampling)+'_Y_eval',parent_dir)\n",
    "    "
   ]
  },
  {
   "cell_type": "code",
   "execution_count": 26,
   "id": "9dc990fb",
   "metadata": {},
   "outputs": [],
   "source": [
    "key = ['sensor_hq','sensor_lq','pixel_hq','pixel_lq']\n",
    "produce_set_4sources(1000,key,ap,parent_dir)"
   ]
  },
  {
   "cell_type": "code",
   "execution_count": 27,
   "id": "47b8ef93",
   "metadata": {},
   "outputs": [],
   "source": [
    "all_xyv = pd.read_csv(os.path.join(os.path.join(parent_dir,'session','synth_all_'+str(6400),'tab'),'dataset.csv'))\n",
    "produce_4sources(all_xyv,key,ap,'synth_all_'+str(6400),parent_dir)"
   ]
  },
  {
   "cell_type": "markdown",
   "id": "03790045",
   "metadata": {},
   "source": [
    "## Producing dataset of 6 sources of sensors  "
   ]
  },
  {
   "cell_type": "code",
   "execution_count": 28,
   "id": "c30faf31",
   "metadata": {},
   "outputs": [],
   "source": [
    "def produce_6sources(all_xyv,key,ap,name,parent_dir):\n",
    "    \n",
    "    all_xyv.loc[:,\"ref\"] = all_xyv.loc[:,\"sensor_hq\"]\n",
    "    all_xyv.loc[:,\"rmse_ref\"] = ap.loc['sensor_hq','RMSE']\n",
    "    all_xyv.loc[:,\"variance_ref\"] = ap.loc['sensor_hq','variance']\n",
    "    \n",
    "    melted = all_xyv.melt(id_vars=[\"x\",\"y\",\"ref\",\"rmse_ref\",\"variance_ref\"],value_vars=key,ignore_index=True)\n",
    "    melted.loc[melted[\"variable\"]==\"sensor_hq\", \"rmse\"] = ap.loc['sensor_hq','RMSE']\n",
    "    melted.loc[melted[\"variable\"]==\"sensor_mq\", \"rmse\"] = ap.loc['sensor_mq','RMSE']\n",
    "    melted.loc[melted[\"variable\"]==\"sensor_lq\", \"rmse\"] = ap.loc['sensor_lq','RMSE']\n",
    "    melted.loc[melted[\"variable\"]==\"pixel_hq\", \"rmse\"] = ap.loc['pixel_hq','RMSE']\n",
    "    melted.loc[melted[\"variable\"]==\"pixel_mq\", \"rmse\"] = ap.loc['pixel_mq','RMSE']\n",
    "    melted.loc[melted[\"variable\"]==\"pixel_lq\", \"rmse\"] = ap.loc['pixel_lq','RMSE']\n",
    "    \n",
    "    melted.loc[melted[\"variable\"]==\"sensor_hq\", \"variance\"] = ap.loc['sensor_hq','variance']\n",
    "    melted.loc[melted[\"variable\"]==\"sensor_mq\", \"variance\"] = ap.loc['sensor_mq','variance']\n",
    "    melted.loc[melted[\"variable\"]==\"sensor_lq\", \"variance\"] = ap.loc['sensor_lq','variance']\n",
    "    melted.loc[melted[\"variable\"]==\"pixel_hq\", \"variance\"] = ap.loc['pixel_hq','variance']\n",
    "    melted.loc[melted[\"variable\"]==\"pixel_mq\", \"variance\"] = ap.loc['pixel_mq','variance']\n",
    "    melted.loc[melted[\"variable\"]==\"pixel_lq\", \"variance\"] = ap.loc['pixel_lq','variance']\n",
    "    \n",
    "    newpath = os.path.join(parent_dir,'session',name+'_6s','tab')\n",
    "    if not os.path.exists(newpath):\n",
    "        os.makedirs(newpath)\n",
    "    f = os.path.join(newpath,'dataset.csv')\n",
    "    melted.to_csv(f,index=False)"
   ]
  },
  {
   "cell_type": "code",
   "execution_count": 29,
   "id": "12afba60",
   "metadata": {},
   "outputs": [],
   "source": [
    "def produce_set_6sources(nb_sampling,key,ap,parent_dir):\n",
    "    \n",
    "    all_xyv = pd.read_csv(os.path.join(os.path.join(parent_dir,'session','synth_'+str(nb_sampling)+'_X_train','tab'),'dataset.csv'))\n",
    "    produce_6sources(all_xyv,key,ap,'synth_'+str(nb_sampling)+'_X_train',parent_dir)\n",
    "    \n",
    "    all_xyv = pd.read_csv(os.path.join(os.path.join(parent_dir,'session','synth_'+str(nb_sampling)+'_Y_train','tab'),'dataset.csv'))\n",
    "    produce_6sources(all_xyv,key,ap,'synth_'+str(nb_sampling)+'_Y_train',parent_dir)\n",
    "    \n",
    "    all_xyv = pd.read_csv(os.path.join(os.path.join(parent_dir,'session','synth_'+str(nb_sampling)+'_X_valid','tab'),'dataset.csv'))\n",
    "    produce_6sources(all_xyv,key,ap,'synth_'+str(nb_sampling)+'_X_valid',parent_dir)\n",
    "    \n",
    "    all_xyv = pd.read_csv(os.path.join(os.path.join(parent_dir,'session','synth_'+str(nb_sampling)+'_Y_valid','tab'),'dataset.csv'))\n",
    "    produce_6sources(all_xyv,key,ap,'synth_'+str(nb_sampling)+'_Y_valid',parent_dir)\n",
    "    \n",
    "    all_xyv = pd.read_csv(os.path.join(os.path.join(parent_dir,'session','synth_'+str(nb_sampling)+'_X_eval','tab'),'dataset.csv'))\n",
    "    produce_6sources(all_xyv,key,ap,'synth_'+str(nb_sampling)+'_X_eval',parent_dir)\n",
    "    \n",
    "    all_xyv = pd.read_csv(os.path.join(os.path.join(parent_dir,'session','synth_'+str(nb_sampling)+'_Y_eval','tab'),'dataset.csv'))\n",
    "    produce_6sources(all_xyv,key,ap,'synth_'+str(nb_sampling)+'_Y_eval',parent_dir)\n",
    "    "
   ]
  },
  {
   "cell_type": "code",
   "execution_count": 30,
   "id": "443227e3",
   "metadata": {},
   "outputs": [],
   "source": [
    "key = ['sensor_hq','sensor_mq','sensor_lq','pixel_hq','pixel_mq','pixel_lq']\n",
    "produce_set_6sources(1000,key,ap,parent_dir)"
   ]
  },
  {
   "cell_type": "code",
   "execution_count": 31,
   "id": "c071b65b",
   "metadata": {},
   "outputs": [],
   "source": [
    "all_xyv = pd.read_csv(os.path.join(os.path.join(parent_dir,'session','synth_all_'+str(6400),'tab'),'dataset.csv'))\n",
    "produce_6sources(all_xyv,key,ap,'synth_all_'+str(6400),parent_dir)"
   ]
  },
  {
   "cell_type": "code",
   "execution_count": null,
   "id": "c2221bc8",
   "metadata": {},
   "outputs": [],
   "source": []
  }
 ],
 "metadata": {
  "kernelspec": {
   "display_name": "Python 3",
   "language": "python",
   "name": "python3"
  },
  "language_info": {
   "codemirror_mode": {
    "name": "ipython",
    "version": 3
   },
   "file_extension": ".py",
   "mimetype": "text/x-python",
   "name": "python",
   "nbconvert_exporter": "python",
   "pygments_lexer": "ipython3",
   "version": "3.8.10"
  }
 },
 "nbformat": 4,
 "nbformat_minor": 5
}
